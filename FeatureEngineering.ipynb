{
  "nbformat": 4,
  "nbformat_minor": 0,
  "metadata": {
    "colab": {
      "provenance": [],
      "collapsed_sections": [],
      "include_colab_link": true
    },
    "kernelspec": {
      "name": "python3",
      "display_name": "Python 3"
    },
    "language_info": {
      "name": "python"
    }
  },
  "cells": [
    {
      "cell_type": "markdown",
      "metadata": {
        "id": "view-in-github",
        "colab_type": "text"
      },
      "source": [
        "<a href=\"https://colab.research.google.com/github/n-beckage/CS254_Final_Project/blob/main/FeatureEngineering.ipynb\" target=\"_parent\"><img src=\"https://colab.research.google.com/assets/colab-badge.svg\" alt=\"Open In Colab\"/></a>"
      ]
    },
    {
      "cell_type": "code",
      "source": [
        "import pandas as pd\n",
        "import numpy as np\n",
        "from datetime import date\n",
        "from sklearn.model_selection import train_test_split\n",
        "from sklearn.svm import SVC\n",
        "from sklearn.metrics import confusion_matrix, classification_report, accuracy_score\n",
        "from matplotlib import pyplot as plt\n",
        "\n",
        "from google.colab import drive\n",
        "drive.mount('/content/drive/')"
      ],
      "metadata": {
        "colab": {
          "base_uri": "https://localhost:8080/"
        },
        "id": "aVMLpw6JF3Ur",
        "outputId": "d4352f74-b5a6-4494-802c-d4244bdf8778"
      },
      "execution_count": 178,
      "outputs": [
        {
          "output_type": "stream",
          "name": "stdout",
          "text": [
            "Drive already mounted at /content/drive/; to attempt to forcibly remount, call drive.mount(\"/content/drive/\", force_remount=True).\n"
          ]
        }
      ]
    },
    {
      "cell_type": "code",
      "source": [
        "import os\n",
        "\n",
        "# TODO: Fill in the Google Drive path where you uploaded the assignment, it should be under CS254/CS254-Assignments/netid-A2\n",
        "GOOGLE_DRIVE_PATH_AFTER_MYDRIVE = 'CS254/CS 254 Final Project/' # change this directory to yours\n",
        "GOOGLE_DRIVE_PATH = os.path.join('drive', 'MyDrive', GOOGLE_DRIVE_PATH_AFTER_MYDRIVE)\n",
        "print(os.listdir(GOOGLE_DRIVE_PATH))"
      ],
      "metadata": {
        "colab": {
          "base_uri": "https://localhost:8080/"
        },
        "id": "UyQjqFuHGltt",
        "outputId": "0f3b2fac-e967-4ab4-934e-fe97720ddd9e"
      },
      "execution_count": 100,
      "outputs": [
        {
          "output_type": "stream",
          "name": "stdout",
          "text": [
            "['nytcrosswords.csv', 'FeatureEngineering.ipynb']\n"
          ]
        }
      ]
    },
    {
      "cell_type": "markdown",
      "source": [
        "# Features to Build\n",
        "- Number of words in the clue\n",
        "- Does clue contain pronoun?\n",
        "- Weight letters in the clue by frequencey\n",
        "  https://en.wikipedia.org/wiki/Letter_frequency\n",
        "- Weights letter in answer by frequency \n",
        "- \n",
        "\n",
        "### Other tasks\n",
        "- Figure out what day of the week each clue is from and filter the dataset to just be Sunday-Wednesday puzzle clues\n",
        "\n",
        "### Labels\n",
        "- Name of a person\n",
        "- Too complicated without NLP (basically our 'other' category\n",
        "- \n",
        "\n"
      ],
      "metadata": {
        "id": "tcxj-FOZpfQ5"
      }
    },
    {
      "cell_type": "markdown",
      "source": [],
      "metadata": {
        "id": "AETL2MMySZHw"
      }
    },
    {
      "cell_type": "markdown",
      "source": [
        "# Loading the Dataset\n",
        "The dataset is located in our folder"
      ],
      "metadata": {
        "id": "VUni3a6-FkWc"
      }
    },
    {
      "cell_type": "code",
      "source": [
        "df = pd.read_csv(GOOGLE_DRIVE_PATH+\"nytcrosswords.csv\", encoding=\"windows_1258\")\n",
        "df.head() #look at the first few rows"
      ],
      "metadata": {
        "colab": {
          "base_uri": "https://localhost:8080/",
          "height": 206
        },
        "id": "PeP_g71lFpdN",
        "outputId": "b42c69f4-6440-4cb7-c9ad-2a0272637b04"
      },
      "execution_count": 101,
      "outputs": [
        {
          "output_type": "execute_result",
          "data": {
            "text/plain": [
              "         Date     Word                                 Clue\n",
              "0  10/31/2021      PAT  Action done while saying \"Good dog\"\n",
              "1  10/31/2021  RASCALS                      Mischief-makers\n",
              "2  10/31/2021      PEN          It might click for a writer\n",
              "3  10/31/2021      SEP                             Fall mo.\n",
              "4  10/31/2021      ECO                Kind to Mother Nature"
            ],
            "text/html": [
              "\n",
              "  <div id=\"df-d1ddcc58-0ae5-41c9-bc8e-16e55dbd0517\">\n",
              "    <div class=\"colab-df-container\">\n",
              "      <div>\n",
              "<style scoped>\n",
              "    .dataframe tbody tr th:only-of-type {\n",
              "        vertical-align: middle;\n",
              "    }\n",
              "\n",
              "    .dataframe tbody tr th {\n",
              "        vertical-align: top;\n",
              "    }\n",
              "\n",
              "    .dataframe thead th {\n",
              "        text-align: right;\n",
              "    }\n",
              "</style>\n",
              "<table border=\"1\" class=\"dataframe\">\n",
              "  <thead>\n",
              "    <tr style=\"text-align: right;\">\n",
              "      <th></th>\n",
              "      <th>Date</th>\n",
              "      <th>Word</th>\n",
              "      <th>Clue</th>\n",
              "    </tr>\n",
              "  </thead>\n",
              "  <tbody>\n",
              "    <tr>\n",
              "      <th>0</th>\n",
              "      <td>10/31/2021</td>\n",
              "      <td>PAT</td>\n",
              "      <td>Action done while saying \"Good dog\"</td>\n",
              "    </tr>\n",
              "    <tr>\n",
              "      <th>1</th>\n",
              "      <td>10/31/2021</td>\n",
              "      <td>RASCALS</td>\n",
              "      <td>Mischief-makers</td>\n",
              "    </tr>\n",
              "    <tr>\n",
              "      <th>2</th>\n",
              "      <td>10/31/2021</td>\n",
              "      <td>PEN</td>\n",
              "      <td>It might click for a writer</td>\n",
              "    </tr>\n",
              "    <tr>\n",
              "      <th>3</th>\n",
              "      <td>10/31/2021</td>\n",
              "      <td>SEP</td>\n",
              "      <td>Fall mo.</td>\n",
              "    </tr>\n",
              "    <tr>\n",
              "      <th>4</th>\n",
              "      <td>10/31/2021</td>\n",
              "      <td>ECO</td>\n",
              "      <td>Kind to Mother Nature</td>\n",
              "    </tr>\n",
              "  </tbody>\n",
              "</table>\n",
              "</div>\n",
              "      <button class=\"colab-df-convert\" onclick=\"convertToInteractive('df-d1ddcc58-0ae5-41c9-bc8e-16e55dbd0517')\"\n",
              "              title=\"Convert this dataframe to an interactive table.\"\n",
              "              style=\"display:none;\">\n",
              "        \n",
              "  <svg xmlns=\"http://www.w3.org/2000/svg\" height=\"24px\"viewBox=\"0 0 24 24\"\n",
              "       width=\"24px\">\n",
              "    <path d=\"M0 0h24v24H0V0z\" fill=\"none\"/>\n",
              "    <path d=\"M18.56 5.44l.94 2.06.94-2.06 2.06-.94-2.06-.94-.94-2.06-.94 2.06-2.06.94zm-11 1L8.5 8.5l.94-2.06 2.06-.94-2.06-.94L8.5 2.5l-.94 2.06-2.06.94zm10 10l.94 2.06.94-2.06 2.06-.94-2.06-.94-.94-2.06-.94 2.06-2.06.94z\"/><path d=\"M17.41 7.96l-1.37-1.37c-.4-.4-.92-.59-1.43-.59-.52 0-1.04.2-1.43.59L10.3 9.45l-7.72 7.72c-.78.78-.78 2.05 0 2.83L4 21.41c.39.39.9.59 1.41.59.51 0 1.02-.2 1.41-.59l7.78-7.78 2.81-2.81c.8-.78.8-2.07 0-2.86zM5.41 20L4 18.59l7.72-7.72 1.47 1.35L5.41 20z\"/>\n",
              "  </svg>\n",
              "      </button>\n",
              "      \n",
              "  <style>\n",
              "    .colab-df-container {\n",
              "      display:flex;\n",
              "      flex-wrap:wrap;\n",
              "      gap: 12px;\n",
              "    }\n",
              "\n",
              "    .colab-df-convert {\n",
              "      background-color: #E8F0FE;\n",
              "      border: none;\n",
              "      border-radius: 50%;\n",
              "      cursor: pointer;\n",
              "      display: none;\n",
              "      fill: #1967D2;\n",
              "      height: 32px;\n",
              "      padding: 0 0 0 0;\n",
              "      width: 32px;\n",
              "    }\n",
              "\n",
              "    .colab-df-convert:hover {\n",
              "      background-color: #E2EBFA;\n",
              "      box-shadow: 0px 1px 2px rgba(60, 64, 67, 0.3), 0px 1px 3px 1px rgba(60, 64, 67, 0.15);\n",
              "      fill: #174EA6;\n",
              "    }\n",
              "\n",
              "    [theme=dark] .colab-df-convert {\n",
              "      background-color: #3B4455;\n",
              "      fill: #D2E3FC;\n",
              "    }\n",
              "\n",
              "    [theme=dark] .colab-df-convert:hover {\n",
              "      background-color: #434B5C;\n",
              "      box-shadow: 0px 1px 3px 1px rgba(0, 0, 0, 0.15);\n",
              "      filter: drop-shadow(0px 1px 2px rgba(0, 0, 0, 0.3));\n",
              "      fill: #FFFFFF;\n",
              "    }\n",
              "  </style>\n",
              "\n",
              "      <script>\n",
              "        const buttonEl =\n",
              "          document.querySelector('#df-d1ddcc58-0ae5-41c9-bc8e-16e55dbd0517 button.colab-df-convert');\n",
              "        buttonEl.style.display =\n",
              "          google.colab.kernel.accessAllowed ? 'block' : 'none';\n",
              "\n",
              "        async function convertToInteractive(key) {\n",
              "          const element = document.querySelector('#df-d1ddcc58-0ae5-41c9-bc8e-16e55dbd0517');\n",
              "          const dataTable =\n",
              "            await google.colab.kernel.invokeFunction('convertToInteractive',\n",
              "                                                     [key], {});\n",
              "          if (!dataTable) return;\n",
              "\n",
              "          const docLinkHtml = 'Like what you see? Visit the ' +\n",
              "            '<a target=\"_blank\" href=https://colab.research.google.com/notebooks/data_table.ipynb>data table notebook</a>'\n",
              "            + ' to learn more about interactive tables.';\n",
              "          element.innerHTML = '';\n",
              "          dataTable['output_type'] = 'display_data';\n",
              "          await google.colab.output.renderOutput(dataTable, element);\n",
              "          const docLink = document.createElement('div');\n",
              "          docLink.innerHTML = docLinkHtml;\n",
              "          element.appendChild(docLink);\n",
              "        }\n",
              "      </script>\n",
              "    </div>\n",
              "  </div>\n",
              "  "
            ]
          },
          "metadata": {},
          "execution_count": 101
        }
      ]
    },
    {
      "cell_type": "markdown",
      "source": [
        "# Start of Feature Extraction + Engineering\n",
        "\n",
        "---\n",
        "\n",
        "HEY TEAM! Here's what I've done so far to code feature extraction, hope this is a good headstart! I also made an outline for next steps for reliminary results in text boxes below.\n",
        "Message me with questions and lmk if you want to code more of it with me this weekend! 😀 - Anna Jane"
      ],
      "metadata": {
        "id": "be1EGF3Jyw8F"
      }
    },
    {
      "cell_type": "code",
      "source": [
        "# get given features from dataframe (feature extraction)\n",
        "clues = np.asarray(df[\"Clue\"], dtype=str)\n",
        "answers = np.asarray(df[\"Word\"], dtype=str)\n",
        "# found an error:  when answer to a clue is \"NULL\" python replaces it with a NaN.\n",
        "# here I find all instances where the answer was replaced with a NaN and restate \n",
        "# the answer to the clue as \"NULL\".\n",
        "for i in np.argwhere(answers==\"nan\"):\n",
        "    answers[i]=\"NULL\"\n",
        "\n",
        "dates = np.asarray(df[\"Date\"])"
      ],
      "metadata": {
        "id": "oEK1oPrd1jZU"
      },
      "execution_count": 102,
      "outputs": []
    },
    {
      "cell_type": "code",
      "source": [
        "# get day of the week from dates (getting targets/labels)\n",
        "def get_days(dates):\n",
        "    clue_days = []\n",
        "    for i in range(len(dates)):\n",
        "        month, day, year = (int(x) for x in dates[i].split('/'))   \n",
        "        my_date = date(year, month, day)\n",
        "        clue_days.append(my_date.strftime(\"%A\"))  #'Wednesday'\n",
        "    return np.array(clue_days)\n",
        "\n",
        "# call function\n",
        "clue_days = get_days(dates) \n",
        "# ^ ideally want to condense these to \"puzzle_days\" since each example we feed our classifier will be one puzzle"
      ],
      "metadata": {
        "id": "CLawHTo-zCCI"
      },
      "execution_count": 220,
      "outputs": []
    },
    {
      "cell_type": "code",
      "source": [
        "print(clue_days)"
      ],
      "metadata": {
        "colab": {
          "base_uri": "https://localhost:8080/"
        },
        "id": "qpkgC_gTngiD",
        "outputId": "90afb48e-0b3a-4ae8-d8eb-ac166fd7f612"
      },
      "execution_count": 221,
      "outputs": [
        {
          "output_type": "stream",
          "name": "stdout",
          "text": [
            "['Sunday' 'Sunday' 'Sunday' ... 'Sunday' 'Sunday' 'Sunday']\n"
          ]
        }
      ]
    },
    {
      "cell_type": "code",
      "source": [
        "# (feature engineering)\n",
        "\n",
        "# get clue lengths: number of characters (including punctuation) in clue\n",
        "clue_lengths = np.empty(len(clues))\n",
        "for i in range(len(clue_lengths)):\n",
        "    clue_lengths[i] = len(clues[i])\n",
        "\n",
        "# get answer lengths: number of characters (including punctuation) in answer\n",
        "answer_lengths = np.empty(len(answers))\n",
        "for i in range(len(answer_lengths)):\n",
        "    answer_lengths[i] = len(answers[i])"
      ],
      "metadata": {
        "id": "z6cKSOUy1bT6"
      },
      "execution_count": 104,
      "outputs": []
    },
    {
      "cell_type": "markdown",
      "source": [
        "## Making a list of puzzle objects"
      ],
      "metadata": {
        "id": "-xx0VGUq3M6g"
      }
    },
    {
      "cell_type": "code",
      "source": [
        "# puzzles: a list of all 10,207 puzzles. Each item in the list represents a puzzle. Each puzzle is a tuple in the format (dayOfWeek, clue-Answerpairs).\n",
        "# Each clue-Answerpairs is a dictionary where the key is a list of clues, and the value is the corresponding (matching index) list of answers\n",
        "# puzzles=[]\n",
        "# for i in range(len(puzzle_groups)):\n",
        "#   puz = puzzle_groups[i]\n",
        "#   dayOfWeek = get_days(np.array(puz[\"Date\"]))[0]\n",
        "#   clueAnswerPair = dict(clues = list(puz[\"Clue\"]), answers = list(puz[\"Word\"]))\n",
        "#   puzzles.append((dayOfWeek,clueAnswerPair))\n"
      ],
      "metadata": {
        "id": "lMTPQOXCxIwA"
      },
      "execution_count": 106,
      "outputs": []
    },
    {
      "cell_type": "code",
      "source": [
        "# # HOW TO GET FIRST CLUE FROM FIRST PUZZLE\n",
        "# list(puzzles[0][1].values())[0][0]\n",
        "\n",
        "# # HOW TO GET FIRST ANSWER FROM FIRST PUZZLE\n",
        "# list(puzzles[0][1].values())[1][0]"
      ],
      "metadata": {
        "colab": {
          "base_uri": "https://localhost:8080/",
          "height": 36
        },
        "id": "oX7fbbsgz_7U",
        "outputId": "836348da-999b-4efc-fd67-4c166276eee9"
      },
      "execution_count": 107,
      "outputs": [
        {
          "output_type": "execute_result",
          "data": {
            "text/plain": [
              "'STALK'"
            ],
            "application/vnd.google.colaboratory.intrinsic+json": {
              "type": "string"
            }
          },
          "metadata": {},
          "execution_count": 107
        }
      ]
    },
    {
      "cell_type": "markdown",
      "source": [
        "## Splitting the data into train/test data\n",
        "Our simplest case model - simple SVM with 80% train 20% test"
      ],
      "metadata": {
        "id": "ujWTCee74nxC"
      }
    },
    {
      "cell_type": "code",
      "source": [
        "days = get_days(dates)\n",
        "len(days)"
      ],
      "metadata": {
        "colab": {
          "base_uri": "https://localhost:8080/"
        },
        "id": "SQiyR6IKFXY-",
        "outputId": "545ac8d8-5361-4a7b-80af-39ad8888c75e"
      },
      "execution_count": 108,
      "outputs": [
        {
          "output_type": "execute_result",
          "data": {
            "text/plain": [
              "781573"
            ]
          },
          "metadata": {},
          "execution_count": 108
        }
      ]
    },
    {
      "cell_type": "code",
      "source": [
        "# putting the data into a nx3 arrray where n is the number of rows (781,573). Every time this cell is run the data is re-ordered\n",
        "data_arr = np.empty((len(days),3), dtype=object)\n",
        "for i in range(len(days)):\n",
        "  data_arr[i][0] = clue_lengths[i]\n",
        "  data_arr[i][1] = answer_lengths[i]\n",
        "  data_arr[i][2] = days[i]"
      ],
      "metadata": {
        "id": "UWIL4WtfHWbD",
        "colab": {
          "base_uri": "https://localhost:8080/"
        },
        "outputId": "a0c25d23-871b-4c65-a8e7-507234f00a9a"
      },
      "execution_count": 126,
      "outputs": [
        {
          "output_type": "execute_result",
          "data": {
            "text/plain": [
              "array([35.0, 3.0, 'Sunday'], dtype=object)"
            ]
          },
          "metadata": {},
          "execution_count": 126
        }
      ]
    },
    {
      "cell_type": "code",
      "source": [
        " # this is an inplace function to SHUFFLE DATA\n",
        "np.random.shuffle(data_arr)"
      ],
      "metadata": {
        "colab": {
          "base_uri": "https://localhost:8080/"
        },
        "id": "X2IUBN_4Zdxd",
        "outputId": "154e073d-b203-4305-ce1e-26ae35539753"
      },
      "execution_count": 127,
      "outputs": [
        {
          "output_type": "execute_result",
          "data": {
            "text/plain": [
              "array([36.0, 4.0, 'Sunday'], dtype=object)"
            ]
          },
          "metadata": {},
          "execution_count": 127
        }
      ]
    },
    {
      "cell_type": "code",
      "source": [
        "def get_subset(data_array, size):\n",
        "  return data_array[:size]\n",
        "\n",
        "# getting the subset of our data (non-random, takes n frist values of data_arr)\n",
        "subset = get_subset(data_arr, 1000)"
      ],
      "metadata": {
        "id": "X-N0NrF9N-5j"
      },
      "execution_count": 179,
      "outputs": []
    },
    {
      "cell_type": "markdown",
      "source": [
        "# Training an SVM Classifier\n",
        "After feature extraction/engineering and splitting up data into features for each puzzle, train an SVM on a small set of examples."
      ],
      "metadata": {
        "id": "tDLSRtUJ1sR6"
      }
    },
    {
      "cell_type": "markdown",
      "source": [
        "- Create an <a href=\"https://scikit-learn.org/stable/modules/generated/sklearn.svm.SVC.html\">SVC</a> object, imported from sklearn's svm module, use linear or poly kernel.\n",
        "- Call the .fit() function on your model with x_train and y_train as parameters.\n",
        "- Call the .predict() function on your model with x_test as a parameter and store the results."
      ],
      "metadata": {
        "id": "TknXEWJ14KI0"
      }
    },
    {
      "cell_type": "code",
      "source": [
        "# test_cell\n",
        "\n",
        "# x_train, x_test, y_train, y_test = train_test_split(subset[:,0:2], subset[:,2], test_size = 0.20, random_state=0)\n",
        "# supVect.fit(x_train, y_train)\n",
        "# print(supVect.score(x_test,y_test))\n",
        "# y_preds = supVect.predict(x_test)\n",
        "# print(accuracy_score(y_test, y_preds))\n",
        "# print(classification_report(y_test, y_preds))"
      ],
      "metadata": {
        "id": "2P5Mn_1De8az"
      },
      "execution_count": 205,
      "outputs": []
    },
    {
      "cell_type": "code",
      "source": [
        "# TAKES ~5 MINUTES TO RUN - BUILDING MODELS\n",
        "supVect = SVC(kernel = 'rbf') # this is the default kernel\n",
        "test_errors = []\n",
        "train_errors = []\n",
        "iters = range(1000, 11000, 500)\n",
        "for i in iters:\n",
        "  subset = get_subset(data_arr, i)\n",
        "  x_train, x_test, y_train, y_test = train_test_split(subset[:,0:2], subset[:,2], test_size = 0.20, random_state=0)\n",
        "  supVect.fit(x_train, y_train)\n",
        "  y_test_preds = supVect.predict(x_test)\n",
        "  test_score = accuracy_score(y_test, y_test_preds)\n",
        "  test_error = 1 - test_score\n",
        "  test_errors.append(test_error)\n",
        "  y_train_preds = supVect.predict(x_train)\n",
        "  train_score = accuracy_score(y_train, y_train_preds)\n",
        "  train_error = 1 - train_score\n",
        "  train_errors.append(train_error)"
      ],
      "metadata": {
        "id": "VakoiZdtV2rO"
      },
      "execution_count": 191,
      "outputs": []
    },
    {
      "cell_type": "code",
      "source": [
        "# report for the last classifier with 10,500 samples\n",
        "print(classification_report(y_test, y_test_preds))\n",
        "print(len(y_test)+len(y_train))\n",
        "print(np.unique(y_test_preds))\n",
        "len(y_test)"
      ],
      "metadata": {
        "colab": {
          "base_uri": "https://localhost:8080/"
        },
        "id": "G4QfZ_YOWhVa",
        "outputId": "5cd213ea-b0cf-4029-b767-f390df04fcae"
      },
      "execution_count": 204,
      "outputs": [
        {
          "output_type": "stream",
          "name": "stdout",
          "text": [
            "              precision    recall  f1-score   support\n",
            "\n",
            "      Friday       0.00      0.00      0.00       200\n",
            "      Monday       0.00      0.00      0.00       292\n",
            "    Saturday       0.00      0.00      0.00       244\n",
            "      Sunday       0.25      1.00      0.40       522\n",
            "    Thursday       0.00      0.00      0.00       267\n",
            "     Tuesday       0.00      0.00      0.00       277\n",
            "   Wednesday       0.00      0.00      0.00       298\n",
            "\n",
            "    accuracy                           0.25      2100\n",
            "   macro avg       0.04      0.14      0.06      2100\n",
            "weighted avg       0.06      0.25      0.10      2100\n",
            "\n",
            "10500\n",
            "['Sunday']\n"
          ]
        },
        {
          "output_type": "stream",
          "name": "stderr",
          "text": [
            "/usr/local/lib/python3.7/dist-packages/sklearn/metrics/_classification.py:1318: UndefinedMetricWarning: Precision and F-score are ill-defined and being set to 0.0 in labels with no predicted samples. Use `zero_division` parameter to control this behavior.\n",
            "  _warn_prf(average, modifier, msg_start, len(result))\n",
            "/usr/local/lib/python3.7/dist-packages/sklearn/metrics/_classification.py:1318: UndefinedMetricWarning: Precision and F-score are ill-defined and being set to 0.0 in labels with no predicted samples. Use `zero_division` parameter to control this behavior.\n",
            "  _warn_prf(average, modifier, msg_start, len(result))\n",
            "/usr/local/lib/python3.7/dist-packages/sklearn/metrics/_classification.py:1318: UndefinedMetricWarning: Precision and F-score are ill-defined and being set to 0.0 in labels with no predicted samples. Use `zero_division` parameter to control this behavior.\n",
            "  _warn_prf(average, modifier, msg_start, len(result))\n"
          ]
        },
        {
          "output_type": "execute_result",
          "data": {
            "text/plain": [
              "2100"
            ]
          },
          "metadata": {},
          "execution_count": 204
        }
      ]
    },
    {
      "cell_type": "code",
      "source": [
        "len(data_arr)"
      ],
      "metadata": {
        "colab": {
          "base_uri": "https://localhost:8080/"
        },
        "id": "twUBmZganRA4",
        "outputId": "535a2aa1-0296-4ba1-8e18-b6146f328ecb"
      },
      "execution_count": 218,
      "outputs": [
        {
          "output_type": "execute_result",
          "data": {
            "text/plain": [
              "781573"
            ]
          },
          "metadata": {},
          "execution_count": 218
        }
      ]
    },
    {
      "cell_type": "code",
      "source": [
        "# Counting the balance of our data\n",
        "import collections\n",
        "elements_count = collections.Counter(clue_days)\n",
        "for key, value in elements_count.items():\n",
        "   print(f\"{key}: {value}\")"
      ],
      "metadata": {
        "colab": {
          "base_uri": "https://localhost:8080/"
        },
        "id": "yq2RmXUSmGKe",
        "outputId": "99791111-0054-4159-c336-a272b9c2b71c"
      },
      "execution_count": 224,
      "outputs": [
        {
          "output_type": "stream",
          "name": "stdout",
          "text": [
            "Sunday: 185922\n",
            "Saturday: 88194\n",
            "Friday: 90534\n",
            "Thursday: 100480\n",
            "Wednesday: 103910\n",
            "Tuesday: 105562\n",
            "Monday: 106971\n"
          ]
        }
      ]
    },
    {
      "cell_type": "code",
      "source": [
        "plt.rcParams[\"figure.figsize\"] = (10,6)\n",
        "plt.plot(list(iters),train_errors)\n",
        "plt.plot(list(iters),test_errors, color = \"green\")\n",
        "plt.xlabel(\"Sample Size (M)\")\n",
        "plt.ylabel(\"Error\")\n",
        "plt.legend([\"Train\",\"Test\"])"
      ],
      "metadata": {
        "colab": {
          "base_uri": "https://localhost:8080/",
          "height": 405
        },
        "id": "IZ5CRQw9XT-p",
        "outputId": "550d2c13-dc25-4d89-cbf8-b7fffe6c425c"
      },
      "execution_count": 193,
      "outputs": [
        {
          "output_type": "execute_result",
          "data": {
            "text/plain": [
              "<matplotlib.legend.Legend at 0x7f6481778ad0>"
            ]
          },
          "metadata": {},
          "execution_count": 193
        },
        {
          "output_type": "display_data",
          "data": {
            "text/plain": [
              "<Figure size 720x432 with 1 Axes>"
            ],
            "image/png": "[encoded data removed]"
          },
          "metadata": {
            "needs_background": "light"
          }
        }
      ]
    },
    {
      "cell_type": "code",
      "source": [
        "supVect.score(x_train,y_train)"
      ],
      "metadata": {
        "colab": {
          "base_uri": "https://localhost:8080/"
        },
        "id": "uDd6ns_J3vx9",
        "outputId": "9865a982-a950-4a72-d287-0684e9a7493b"
      },
      "execution_count": 194,
      "outputs": [
        {
          "output_type": "execute_result",
          "data": {
            "text/plain": [
              "0.24059523809523808"
            ]
          },
          "metadata": {},
          "execution_count": 194
        }
      ]
    },
    {
      "cell_type": "markdown",
      "source": [
        "# Testing the SVM Classifier\n",
        "After training, test the classifier on a small testing set. \n",
        "Gauge performance based on TP, TN, FP, FN statistics (i.e. precision, recall, accuracy, etc...)"
      ],
      "metadata": {
        "id": "sqlAujUi2MxJ"
      }
    }
  ]
}