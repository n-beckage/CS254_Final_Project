{
  "nbformat": 4,
  "nbformat_minor": 0,
  "metadata": {
    "colab": {
      "provenance": [],
      "collapsed_sections": [],
      "include_colab_link": true
    },
    "kernelspec": {
      "name": "python3",
      "display_name": "Python 3"
    },
    "language_info": {
      "name": "python"
    }
  },
  "cells": [
    {
      "cell_type": "markdown",
      "metadata": {
        "id": "view-in-github",
        "colab_type": "text"
      },
      "source": [
        "<a href=\"https://colab.research.google.com/github/n-beckage/CS254_Final_Project/blob/main/FeatureEngineering.ipynb\" target=\"_parent\"><img src=\"https://colab.research.google.com/assets/colab-badge.svg\" alt=\"Open In Colab\"/></a>"
      ]
    },
    {
      "cell_type": "code",
      "source": [
        "import pandas as pd\n",
        "import numpy as np\n",
        "from datetime import date\n",
        "from sklearn.model_selection import train_test_split\n",
        "from sklearn.svm import SVC\n",
        "from sklearn.metrics import confusion_matrix, classification_report, accuracy_score\n",
        "from matplotlib import pyplot as plt\n",
        "\n",
        "from google.colab import drive\n",
        "drive.mount('/content/drive/')"
      ],
      "metadata": {
        "colab": {
          "base_uri": "https://localhost:8080/"
        },
        "id": "aVMLpw6JF3Ur",
        "outputId": "d5f80fcd-cf53-4c0c-c3b4-2a1766f5effe"
      },
      "execution_count": 1,
      "outputs": [
        {
          "output_type": "stream",
          "name": "stdout",
          "text": [
            "Mounted at /content/drive/\n"
          ]
        }
      ]
    },
    {
      "cell_type": "code",
      "source": [
        "import os\n",
        "\n",
        "# TODO: Fill in the Google Drive path where you uploaded the assignment, it should be under CS254/CS254-Assignments/netid-A2\n",
        "GOOGLE_DRIVE_PATH_AFTER_MYDRIVE = 'CS254/CS 254 Final Project/' # change this directory to yours\n",
        "GOOGLE_DRIVE_PATH = os.path.join('drive', 'MyDrive', GOOGLE_DRIVE_PATH_AFTER_MYDRIVE)\n",
        "print(os.listdir(GOOGLE_DRIVE_PATH))"
      ],
      "metadata": {
        "colab": {
          "base_uri": "https://localhost:8080/"
        },
        "id": "UyQjqFuHGltt",
        "outputId": "6f96272d-2c19-489f-b041-4fe3ce3718c3"
      },
      "execution_count": 2,
      "outputs": [
        {
          "output_type": "stream",
          "name": "stdout",
          "text": [
            "['nytcrosswords.csv', 'FeatureEngineering.ipynb']\n"
          ]
        }
      ]
    },
    {
      "cell_type": "markdown",
      "source": [
        "# Features to Build\n",
        "- Number of words in the clue\n",
        "- Does clue contain pronoun?\n",
        "- Weight letters in the clue by frequencey\n",
        "  https://en.wikipedia.org/wiki/Letter_frequency\n",
        "- Weights letter in answer by frequency \n",
        "- \n",
        "\n",
        "### Other tasks\n",
        "- Figure out what day of the week each clue is from and filter the dataset to just be Sunday-Wednesday puzzle clues\n",
        "\n",
        "### Labels\n",
        "- Name of a person\n",
        "- Too complicated without NLP (basically our 'other' category\n",
        "- \n",
        "\n"
      ],
      "metadata": {
        "id": "tcxj-FOZpfQ5"
      }
    },
    {
      "cell_type": "markdown",
      "source": [],
      "metadata": {
        "id": "AETL2MMySZHw"
      }
    },
    {
      "cell_type": "markdown",
      "source": [
        "# Loading the Dataset\n",
        "The dataset is located in our folder"
      ],
      "metadata": {
        "id": "VUni3a6-FkWc"
      }
    },
    {
      "cell_type": "code",
      "source": [
        "df = pd.read_csv(GOOGLE_DRIVE_PATH+\"nytcrosswords.csv\", encoding=\"windows_1258\")\n",
        "df.head() #look at the first few rows"
      ],
      "metadata": {
        "colab": {
          "base_uri": "https://localhost:8080/",
          "height": 206
        },
        "id": "PeP_g71lFpdN",
        "outputId": "58bc4d3c-908d-4ad7-ab51-041c2a8697af"
      },
      "execution_count": 3,
      "outputs": [
        {
          "output_type": "execute_result",
          "data": {
            "text/plain": [
              "         Date     Word                                 Clue\n",
              "0  10/31/2021      PAT  Action done while saying \"Good dog\"\n",
              "1  10/31/2021  RASCALS                      Mischief-makers\n",
              "2  10/31/2021      PEN          It might click for a writer\n",
              "3  10/31/2021      SEP                             Fall mo.\n",
              "4  10/31/2021      ECO                Kind to Mother Nature"
            ],
            "text/html": [
              "\n",
              "  <div id=\"df-5e5c0613-5eaf-4bf7-b729-750b6622ef7e\">\n",
              "    <div class=\"colab-df-container\">\n",
              "      <div>\n",
              "<style scoped>\n",
              "    .dataframe tbody tr th:only-of-type {\n",
              "        vertical-align: middle;\n",
              "    }\n",
              "\n",
              "    .dataframe tbody tr th {\n",
              "        vertical-align: top;\n",
              "    }\n",
              "\n",
              "    .dataframe thead th {\n",
              "        text-align: right;\n",
              "    }\n",
              "</style>\n",
              "<table border=\"1\" class=\"dataframe\">\n",
              "  <thead>\n",
              "    <tr style=\"text-align: right;\">\n",
              "      <th></th>\n",
              "      <th>Date</th>\n",
              "      <th>Word</th>\n",
              "      <th>Clue</th>\n",
              "    </tr>\n",
              "  </thead>\n",
              "  <tbody>\n",
              "    <tr>\n",
              "      <th>0</th>\n",
              "      <td>10/31/2021</td>\n",
              "      <td>PAT</td>\n",
              "      <td>Action done while saying \"Good dog\"</td>\n",
              "    </tr>\n",
              "    <tr>\n",
              "      <th>1</th>\n",
              "      <td>10/31/2021</td>\n",
              "      <td>RASCALS</td>\n",
              "      <td>Mischief-makers</td>\n",
              "    </tr>\n",
              "    <tr>\n",
              "      <th>2</th>\n",
              "      <td>10/31/2021</td>\n",
              "      <td>PEN</td>\n",
              "      <td>It might click for a writer</td>\n",
              "    </tr>\n",
              "    <tr>\n",
              "      <th>3</th>\n",
              "      <td>10/31/2021</td>\n",
              "      <td>SEP</td>\n",
              "      <td>Fall mo.</td>\n",
              "    </tr>\n",
              "    <tr>\n",
              "      <th>4</th>\n",
              "      <td>10/31/2021</td>\n",
              "      <td>ECO</td>\n",
              "      <td>Kind to Mother Nature</td>\n",
              "    </tr>\n",
              "  </tbody>\n",
              "</table>\n",
              "</div>\n",
              "      <button class=\"colab-df-convert\" onclick=\"convertToInteractive('df-5e5c0613-5eaf-4bf7-b729-750b6622ef7e')\"\n",
              "              title=\"Convert this dataframe to an interactive table.\"\n",
              "              style=\"display:none;\">\n",
              "        \n",
              "  <svg xmlns=\"http://www.w3.org/2000/svg\" height=\"24px\"viewBox=\"0 0 24 24\"\n",
              "       width=\"24px\">\n",
              "    <path d=\"M0 0h24v24H0V0z\" fill=\"none\"/>\n",
              "    <path d=\"M18.56 5.44l.94 2.06.94-2.06 2.06-.94-2.06-.94-.94-2.06-.94 2.06-2.06.94zm-11 1L8.5 8.5l.94-2.06 2.06-.94-2.06-.94L8.5 2.5l-.94 2.06-2.06.94zm10 10l.94 2.06.94-2.06 2.06-.94-2.06-.94-.94-2.06-.94 2.06-2.06.94z\"/><path d=\"M17.41 7.96l-1.37-1.37c-.4-.4-.92-.59-1.43-.59-.52 0-1.04.2-1.43.59L10.3 9.45l-7.72 7.72c-.78.78-.78 2.05 0 2.83L4 21.41c.39.39.9.59 1.41.59.51 0 1.02-.2 1.41-.59l7.78-7.78 2.81-2.81c.8-.78.8-2.07 0-2.86zM5.41 20L4 18.59l7.72-7.72 1.47 1.35L5.41 20z\"/>\n",
              "  </svg>\n",
              "      </button>\n",
              "      \n",
              "  <style>\n",
              "    .colab-df-container {\n",
              "      display:flex;\n",
              "      flex-wrap:wrap;\n",
              "      gap: 12px;\n",
              "    }\n",
              "\n",
              "    .colab-df-convert {\n",
              "      background-color: #E8F0FE;\n",
              "      border: none;\n",
              "      border-radius: 50%;\n",
              "      cursor: pointer;\n",
              "      display: none;\n",
              "      fill: #1967D2;\n",
              "      height: 32px;\n",
              "      padding: 0 0 0 0;\n",
              "      width: 32px;\n",
              "    }\n",
              "\n",
              "    .colab-df-convert:hover {\n",
              "      background-color: #E2EBFA;\n",
              "      box-shadow: 0px 1px 2px rgba(60, 64, 67, 0.3), 0px 1px 3px 1px rgba(60, 64, 67, 0.15);\n",
              "      fill: #174EA6;\n",
              "    }\n",
              "\n",
              "    [theme=dark] .colab-df-convert {\n",
              "      background-color: #3B4455;\n",
              "      fill: #D2E3FC;\n",
              "    }\n",
              "\n",
              "    [theme=dark] .colab-df-convert:hover {\n",
              "      background-color: #434B5C;\n",
              "      box-shadow: 0px 1px 3px 1px rgba(0, 0, 0, 0.15);\n",
              "      filter: drop-shadow(0px 1px 2px rgba(0, 0, 0, 0.3));\n",
              "      fill: #FFFFFF;\n",
              "    }\n",
              "  </style>\n",
              "\n",
              "      <script>\n",
              "        const buttonEl =\n",
              "          document.querySelector('#df-5e5c0613-5eaf-4bf7-b729-750b6622ef7e button.colab-df-convert');\n",
              "        buttonEl.style.display =\n",
              "          google.colab.kernel.accessAllowed ? 'block' : 'none';\n",
              "\n",
              "        async function convertToInteractive(key) {\n",
              "          const element = document.querySelector('#df-5e5c0613-5eaf-4bf7-b729-750b6622ef7e');\n",
              "          const dataTable =\n",
              "            await google.colab.kernel.invokeFunction('convertToInteractive',\n",
              "                                                     [key], {});\n",
              "          if (!dataTable) return;\n",
              "\n",
              "          const docLinkHtml = 'Like what you see? Visit the ' +\n",
              "            '<a target=\"_blank\" href=https://colab.research.google.com/notebooks/data_table.ipynb>data table notebook</a>'\n",
              "            + ' to learn more about interactive tables.';\n",
              "          element.innerHTML = '';\n",
              "          dataTable['output_type'] = 'display_data';\n",
              "          await google.colab.output.renderOutput(dataTable, element);\n",
              "          const docLink = document.createElement('div');\n",
              "          docLink.innerHTML = docLinkHtml;\n",
              "          element.appendChild(docLink);\n",
              "        }\n",
              "      </script>\n",
              "    </div>\n",
              "  </div>\n",
              "  "
            ]
          },
          "metadata": {},
          "execution_count": 3
        }
      ]
    },
    {
      "cell_type": "markdown",
      "source": [
        "# Start of Feature Extraction + Engineering\n",
        "\n",
        "---\n",
        "\n",
        "HEY TEAM! Here's what I've done so far to code feature extraction, hope this is a good headstart! I also made an outline for next steps for reliminary results in text boxes below.\n",
        "Message me with questions and lmk if you want to code more of it with me this weekend! 😀 - Anna Jane"
      ],
      "metadata": {
        "id": "be1EGF3Jyw8F"
      }
    },
    {
      "cell_type": "code",
      "source": [
        "# get given features from dataframe (feature extraction)\n",
        "clues = np.asarray(df[\"Clue\"], dtype=str)\n",
        "answers = np.asarray(df[\"Word\"], dtype=str)\n",
        "# found an error:  when answer to a clue is \"NULL\" python replaces it with a NaN.\n",
        "# here I find all instances where the answer was replaced with a NaN and restate \n",
        "# the answer to the clue as \"NULL\".\n",
        "for i in np.argwhere(answers==\"nan\"):\n",
        "    answers[i]=\"NULL\"\n",
        "\n",
        "dates = np.asarray(df[\"Date\"])"
      ],
      "metadata": {
        "id": "oEK1oPrd1jZU"
      },
      "execution_count": 4,
      "outputs": []
    },
    {
      "cell_type": "code",
      "source": [
        "# get day of the week from dates (getting targets/labels)\n",
        "def get_days(dates):\n",
        "    clue_days = []\n",
        "    for i in range(len(dates)):\n",
        "        month, day, year = (int(x) for x in dates[i].split('/'))   \n",
        "        my_date = date(year, month, day)\n",
        "        clue_days.append(my_date.strftime(\"%A\"))  #'Wednesday'\n",
        "    return np.array(clue_days)\n",
        "\n",
        "# call function\n",
        "clue_days = get_days(dates) \n",
        "# ^ ideally want to condense these to \"puzzle_days\" since each example we feed our classifier will be one puzzle"
      ],
      "metadata": {
        "id": "CLawHTo-zCCI"
      },
      "execution_count": 5,
      "outputs": []
    },
    {
      "cell_type": "code",
      "source": [
        "print(clue_days)"
      ],
      "metadata": {
        "colab": {
          "base_uri": "https://localhost:8080/"
        },
        "id": "qpkgC_gTngiD",
        "outputId": "90afb48e-0b3a-4ae8-d8eb-ac166fd7f612"
      },
      "execution_count": 221,
      "outputs": [
        {
          "output_type": "stream",
          "name": "stdout",
          "text": [
            "['Sunday' 'Sunday' 'Sunday' ... 'Sunday' 'Sunday' 'Sunday']\n"
          ]
        }
      ]
    },
    {
      "cell_type": "code",
      "source": [
        "# (feature engineering)\n",
        "\n",
        "# get clue lengths: number of characters (including punctuation) in clue\n",
        "clue_lengths = np.empty(len(clues))\n",
        "for i in range(len(clue_lengths)):\n",
        "    clue_lengths[i] = len(clues[i])\n",
        "\n",
        "# get answer lengths: number of characters (including punctuation) in answer\n",
        "answer_lengths = np.empty(len(answers))\n",
        "for i in range(len(answer_lengths)):\n",
        "    answer_lengths[i] = len(answers[i])"
      ],
      "metadata": {
        "id": "z6cKSOUy1bT6"
      },
      "execution_count": 6,
      "outputs": []
    },
    {
      "cell_type": "markdown",
      "source": [
        "## Making a list of puzzle objects"
      ],
      "metadata": {
        "id": "-xx0VGUq3M6g"
      }
    },
    {
      "cell_type": "code",
      "source": [
        "# puzzles: a list of all 10,207 puzzles. Each item in the list represents a puzzle. Each puzzle is a tuple in the format (dayOfWeek, clue-Answerpairs).\n",
        "# Each clue-Answerpairs is a dictionary where the key is a list of clues, and the value is the corresponding (matching index) list of answers\n",
        "# puzzles=[]\n",
        "# for i in range(len(puzzle_groups)):\n",
        "#   puz = puzzle_groups[i]\n",
        "#   dayOfWeek = get_days(np.array(puz[\"Date\"]))[0]\n",
        "#   clueAnswerPair = dict(clues = list(puz[\"Clue\"]), answers = list(puz[\"Word\"]))\n",
        "#   puzzles.append((dayOfWeek,clueAnswerPair))\n"
      ],
      "metadata": {
        "id": "lMTPQOXCxIwA"
      },
      "execution_count": 106,
      "outputs": []
    },
    {
      "cell_type": "code",
      "source": [
        "# # HOW TO GET FIRST CLUE FROM FIRST PUZZLE\n",
        "# list(puzzles[0][1].values())[0][0]\n",
        "\n",
        "# # HOW TO GET FIRST ANSWER FROM FIRST PUZZLE\n",
        "# list(puzzles[0][1].values())[1][0]"
      ],
      "metadata": {
        "colab": {
          "base_uri": "https://localhost:8080/",
          "height": 36
        },
        "id": "oX7fbbsgz_7U",
        "outputId": "836348da-999b-4efc-fd67-4c166276eee9"
      },
      "execution_count": 107,
      "outputs": [
        {
          "output_type": "execute_result",
          "data": {
            "text/plain": [
              "'STALK'"
            ],
            "application/vnd.google.colaboratory.intrinsic+json": {
              "type": "string"
            }
          },
          "metadata": {},
          "execution_count": 107
        }
      ]
    },
    {
      "cell_type": "markdown",
      "source": [
        "## Splitting the data into train/test data\n",
        "Our simplest case model - simple SVM with 80% train 20% test"
      ],
      "metadata": {
        "id": "ujWTCee74nxC"
      }
    },
    {
      "cell_type": "code",
      "source": [
        "days = get_days(dates)\n",
        "len(days)"
      ],
      "metadata": {
        "colab": {
          "base_uri": "https://localhost:8080/"
        },
        "id": "SQiyR6IKFXY-",
        "outputId": "70698dd5-ccc9-4b96-e847-260c42a7a476"
      },
      "execution_count": 8,
      "outputs": [
        {
          "output_type": "execute_result",
          "data": {
            "text/plain": [
              "781573"
            ]
          },
          "metadata": {},
          "execution_count": 8
        }
      ]
    },
    {
      "cell_type": "code",
      "source": [
        "# putting the data into a nx3 arrray where n is the number of rows (781,573). Every time this cell is run the data is re-ordered\n",
        "data_arr = np.empty((len(days),3), dtype=object)\n",
        "for i in range(len(days)):\n",
        "  data_arr[i][0] = clue_lengths[i]\n",
        "  data_arr[i][1] = answer_lengths[i]\n",
        "  data_arr[i][2] = days[i]"
      ],
      "metadata": {
        "id": "UWIL4WtfHWbD"
      },
      "execution_count": 49,
      "outputs": []
    },
    {
      "cell_type": "code",
      "source": [
        "# # this is an inplace function to SHUFFLE DATA\n",
        "# np.random.shuffle(data_arr)"
      ],
      "metadata": {
        "id": "X2IUBN_4Zdxd"
      },
      "execution_count": 10,
      "outputs": []
    },
    {
      "cell_type": "code",
      "source": [
        "def get_subset(data_array, size):\n",
        "  return data_array[:size]\n",
        "\n",
        "# getting the subset of our data (non-random, takes n frist values of data_arr)\n",
        "subset = get_subset(data_arr, 1000)"
      ],
      "metadata": {
        "id": "X-N0NrF9N-5j"
      },
      "execution_count": 50,
      "outputs": []
    },
    {
      "cell_type": "markdown",
      "source": [
        "# Training an SVM Classifier\n",
        "After feature extraction/engineering and splitting up data into features for each puzzle, train an SVM on a small set of examples."
      ],
      "metadata": {
        "id": "tDLSRtUJ1sR6"
      }
    },
    {
      "cell_type": "markdown",
      "source": [
        "- Create an <a href=\"https://scikit-learn.org/stable/modules/generated/sklearn.svm.SVC.html\">SVC</a> object, imported from sklearn's svm module, use linear or poly kernel.\n",
        "- Call the .fit() function on your model with x_train and y_train as parameters.\n",
        "- Call the .predict() function on your model with x_test as a parameter and store the results."
      ],
      "metadata": {
        "id": "TknXEWJ14KI0"
      }
    },
    {
      "cell_type": "code",
      "source": [
        "# test_cell\n",
        "\n",
        "# x_train, x_test, y_train, y_test = train_test_split(subset[:,0:2], subset[:,2], test_size = 0.20, random_state=0)\n",
        "# supVect.fit(x_train, y_train)\n",
        "# print(supVect.score(x_test,y_test))\n",
        "# y_preds = supVect.predict(x_test)\n",
        "# print(accuracy_score(y_test, y_preds))\n",
        "# print(classification_report(y_test, y_preds))\n",
        "len(list(range(1000, 10500, 500)))"
      ],
      "metadata": {
        "colab": {
          "base_uri": "https://localhost:8080/"
        },
        "id": "2P5Mn_1De8az",
        "outputId": "3951b7ba-f38d-4bd8-927c-c8415cd789ba"
      },
      "execution_count": 73,
      "outputs": [
        {
          "output_type": "execute_result",
          "data": {
            "text/plain": [
              "19"
            ]
          },
          "metadata": {},
          "execution_count": 73
        }
      ]
    },
    {
      "cell_type": "code",
      "source": [
        "import warnings\n",
        "warnings.filterwarnings('ignore')\n",
        "# TAKES ~5 MINUTES TO RUN - BUILDING MODELS\n",
        "supVect = SVC(kernel = 'rbf') # this is the default kernel\n",
        "test_errors = []\n",
        "train_errors = []\n",
        "test_reports = []\n",
        "train_reports = []\n",
        "iters = range(1000, 10250, 250)\n",
        "for i in iters:\n",
        "  np.random.shuffle(data_arr)\n",
        "  subset = get_subset(data_arr, i)\n",
        "  x_train, x_test, y_train, y_test = train_test_split(subset[:,0:2], subset[:,2], test_size = 0.20, random_state=0)\n",
        "  supVect.fit(x_train, y_train)\n",
        "  y_test_preds = supVect.predict(x_test)\n",
        "  test_score = accuracy_score(y_test, y_test_preds)\n",
        "  test_error = 1 - test_score\n",
        "  test_errors.append(test_error)\n",
        "  y_train_preds = supVect.predict(x_train)\n",
        "  train_score = accuracy_score(y_train, y_train_preds)\n",
        "  train_error = 1 - train_score\n",
        "  train_errors.append(train_error)\n",
        "  test_reports.append(classification_report(y_test, y_test_preds))\n",
        "  train_reports.append(classification_report(y_train, y_train_preds))"
      ],
      "metadata": {
        "id": "VakoiZdtV2rO"
      },
      "execution_count": 117,
      "outputs": []
    },
    {
      "cell_type": "markdown",
      "source": [
        "### Summary Statistics for All Models"
      ],
      "metadata": {
        "id": "ITmOYtS6mN5W"
      }
    },
    {
      "cell_type": "code",
      "source": [
        "print(\"Number of models created:\",len(iters))\n",
        "print(\"Starting at m =\",iters[0],\"up to m =\",iters[len(iters)-1],\"at increments of\",iters[1]-iters[0])\n",
        "print(\"Average test error =\",np.mean(test_errors))\n",
        "print(\"Average test accuracy =\",1-np.mean(test_errors))\n",
        "print(\"Average training error =\",np.mean(train_errors))\n",
        "print(\"Average training accuracy =\",1-np.mean(train_errors))"
      ],
      "metadata": {
        "colab": {
          "base_uri": "https://localhost:8080/"
        },
        "id": "_nA5fuOWmT1k",
        "outputId": "c7e52c57-7bb7-4308-82ed-bca06e8cb2f7"
      },
      "execution_count": 116,
      "outputs": [
        {
          "output_type": "stream",
          "name": "stdout",
          "text": [
            "Number of models created: 37\n",
            "Starting at m = 1000 up to m = 10000 at increments of 250\n",
            "Average test error = 0.7600393206495822\n",
            "Average test accuracy = 0.23996067935041776\n",
            "Average training error = 0.7601782807762135\n",
            "Average training accuracy = 0.23982171922378648\n"
          ]
        }
      ]
    },
    {
      "cell_type": "markdown",
      "source": [
        "### Best SVM Model Statistics"
      ],
      "metadata": {
        "id": "9enZNkcSlX6q"
      }
    },
    {
      "cell_type": "code",
      "source": [
        "best_idx = test_errors.index(min(test_errors))\n",
        "print(\"Model with the highest test accuracy had M =\",iters[best_idx])\n",
        "print(\"Test error was\",test_errors[best_idx])\n",
        "print(\"Training error was\",train_errors[best_idx])\n",
        "print(\"\\n TEST REPORT:\")\n",
        "print(test_reports[best_idx])\n",
        "print(\"\\n TRAINING REPORT:\")\n",
        "print(train_reports[best_idx])"
      ],
      "metadata": {
        "colab": {
          "base_uri": "https://localhost:8080/"
        },
        "id": "FaaZuAbEMlea",
        "outputId": "4aa1ad39-8671-4a83-ee83-e445eaf1bd83"
      },
      "execution_count": 100,
      "outputs": [
        {
          "output_type": "stream",
          "name": "stdout",
          "text": [
            "Model with the highest test accuracy had M = 1000\n",
            "Test error was 0.7\n",
            "Training error was 0.75625\n",
            "\n",
            " TEST REPORT:\n",
            "              precision    recall  f1-score   support\n",
            "\n",
            "      Friday       0.00      0.00      0.00        22\n",
            "      Monday       0.00      0.00      0.00        25\n",
            "    Saturday       0.00      0.00      0.00        24\n",
            "      Sunday       0.30      0.98      0.46        60\n",
            "    Thursday       0.00      0.00      0.00        21\n",
            "     Tuesday       0.00      0.00      0.00        17\n",
            "   Wednesday       0.17      0.03      0.05        31\n",
            "\n",
            "    accuracy                           0.30       200\n",
            "   macro avg       0.07      0.15      0.07       200\n",
            "weighted avg       0.12      0.30      0.15       200\n",
            "\n",
            "\n",
            " TRAINING REPORT:\n",
            "              precision    recall  f1-score   support\n",
            "\n",
            "      Friday       0.00      0.00      0.00       105\n",
            "      Monday       0.00      0.00      0.00       129\n",
            "    Saturday       0.00      0.00      0.00        82\n",
            "      Sunday       0.25      0.98      0.39       191\n",
            "    Thursday       0.00      0.00      0.00       105\n",
            "     Tuesday       0.00      0.00      0.00        86\n",
            "   Wednesday       0.21      0.07      0.10       102\n",
            "\n",
            "    accuracy                           0.24       800\n",
            "   macro avg       0.07      0.15      0.07       800\n",
            "weighted avg       0.09      0.24      0.11       800\n",
            "\n"
          ]
        }
      ]
    },
    {
      "cell_type": "markdown",
      "source": [
        "### Worst SVM Model Statistics"
      ],
      "metadata": {
        "id": "LRIWMivelg0N"
      }
    },
    {
      "cell_type": "code",
      "source": [
        "worst_idx = test_errors.index(max(test_errors))\n",
        "print(\"Model with the lowest test accuracy had M =\",iters[worst_idx])\n",
        "print(\"Test error was\",test_errors[worst_idx])\n",
        "print(\"Training error was\",train_errors[worst_idx])\n",
        "print(\"\\n TEST REPORT:\")\n",
        "print(test_reports[worst_idx])\n",
        "print(\"\\n TRAINING REPORT:\")\n",
        "print(train_reports[worst_idx])"
      ],
      "metadata": {
        "colab": {
          "base_uri": "https://localhost:8080/"
        },
        "id": "RFu-5D13lArU",
        "outputId": "70d1af6b-5696-47a6-dbcc-aba8499de722"
      },
      "execution_count": 101,
      "outputs": [
        {
          "output_type": "stream",
          "name": "stdout",
          "text": [
            "Model with the lowest test accuracy had M = 3000\n",
            "Test error was 0.8049999999999999\n",
            "Training error was 0.7566666666666666\n",
            "\n",
            " TEST REPORT:\n",
            "              precision    recall  f1-score   support\n",
            "\n",
            "      Friday       0.00      0.00      0.00        66\n",
            "      Monday       0.00      0.00      0.00        78\n",
            "    Saturday       0.00      0.00      0.00        70\n",
            "      Sunday       0.20      1.00      0.33       117\n",
            "    Thursday       0.00      0.00      0.00        98\n",
            "     Tuesday       0.00      0.00      0.00        68\n",
            "   Wednesday       0.00      0.00      0.00       103\n",
            "\n",
            "    accuracy                           0.20       600\n",
            "   macro avg       0.03      0.14      0.05       600\n",
            "weighted avg       0.04      0.20      0.06       600\n",
            "\n",
            "\n",
            " TRAINING REPORT:\n",
            "              precision    recall  f1-score   support\n",
            "\n",
            "      Friday       0.00      0.00      0.00       267\n",
            "      Monday       0.00      0.00      0.00       314\n",
            "    Saturday       0.00      0.00      0.00       284\n",
            "      Sunday       0.24      1.00      0.39       578\n",
            "    Thursday       0.00      0.00      0.00       298\n",
            "     Tuesday       0.67      0.01      0.01       335\n",
            "   Wednesday       0.60      0.02      0.04       324\n",
            "\n",
            "    accuracy                           0.24      2400\n",
            "   macro avg       0.22      0.15      0.06      2400\n",
            "weighted avg       0.23      0.24      0.10      2400\n",
            "\n"
          ]
        }
      ]
    },
    {
      "cell_type": "code",
      "source": [
        "# Counting the balance of our data\n",
        "import collections\n",
        "elements_count = collections.Counter(clue_days)\n",
        "for key, value in elements_count.items():\n",
        "   print(f\"{key}: {round((value/len(clue_days))*100,1)}%\")"
      ],
      "metadata": {
        "colab": {
          "base_uri": "https://localhost:8080/"
        },
        "id": "yq2RmXUSmGKe",
        "outputId": "47b411d3-3983-44b4-d2e5-151869aa23af"
      },
      "execution_count": 111,
      "outputs": [
        {
          "output_type": "stream",
          "name": "stdout",
          "text": [
            "Sunday: 23.8%\n",
            "Saturday: 11.3%\n",
            "Friday: 11.6%\n",
            "Thursday: 12.9%\n",
            "Wednesday: 13.3%\n",
            "Tuesday: 13.5%\n",
            "Monday: 13.7%\n"
          ]
        }
      ]
    },
    {
      "cell_type": "code",
      "source": [
        "print(list(iters))\n",
        "print(test_errors)"
      ],
      "metadata": {
        "colab": {
          "base_uri": "https://localhost:8080/"
        },
        "id": "HTOxPZ1_Svq7",
        "outputId": "262d4031-adc7-4694-8492-d4f5f76439f4"
      },
      "execution_count": 87,
      "outputs": [
        {
          "output_type": "stream",
          "name": "stdout",
          "text": [
            "[1000, 1250, 1500, 1750, 2000, 2250, 2500, 2750, 3000, 3250, 3500, 3750, 4000, 4250, 4500, 4750, 5000, 5250, 5500, 5750, 6000, 6250, 6500, 6750, 7000, 7250, 7500, 7750, 8000, 8250, 8500, 8750, 9000, 9250, 9500, 9750, 10000]\n",
            "[0.7, 0.78, 0.7633333333333333, 0.7514285714285714, 0.74, 0.76, 0.788, 0.7436363636363637, 0.8049999999999999, 0.7307692307692308, 0.7642857142857142, 0.768, 0.75875, 0.7388235294117647, 0.7577777777777778, 0.7652631578947369, 0.751, 0.7380952380952381, 0.7836363636363637, 0.7895652173913044, 0.7758333333333334, 0.7512, 0.7584615384615385, 0.7674074074074074, 0.7742857142857142, 0.7482758620689656, 0.7546666666666667, 0.7580645161290323, 0.76125, 0.7678787878787878, 0.7623529411764706, 0.7634285714285715, 0.7583333333333333, 0.7454054054054053, 0.7721052631578947, 0.7656410256410257, 0.7595000000000001]\n"
          ]
        }
      ]
    },
    {
      "cell_type": "code",
      "source": [
        "plt.rcParams[\"figure.figsize\"] = (10,6)\n",
        "plt.plot(list(iters),train_errors)\n",
        "plt.plot(list(iters),test_errors, color = \"green\")\n",
        "plt.xlabel(\"Sample Size (M)\")\n",
        "plt.ylabel(\"Error\")\n",
        "plt.legend([\"Train\",\"Test\"])"
      ],
      "metadata": {
        "colab": {
          "base_uri": "https://localhost:8080/",
          "height": 405
        },
        "id": "IZ5CRQw9XT-p",
        "outputId": "b540990f-bdf2-4d06-cb8d-267d8bf8b506"
      },
      "execution_count": 93,
      "outputs": [
        {
          "output_type": "execute_result",
          "data": {
            "text/plain": [
              "<matplotlib.legend.Legend at 0x7f2b89bc0c10>"
            ]
          },
          "metadata": {},
          "execution_count": 93
        },
        {
          "output_type": "display_data",
          "data": {
            "text/plain": [
              "<Figure size 720x432 with 1 Axes>"
            ],
            "image/png": "[encoded data removed]"
          },
          "metadata": {
            "needs_background": "light"
          }
        }
      ]
    },
    {
      "cell_type": "code",
      "source": [
        "supVect.score(x_train,y_train)"
      ],
      "metadata": {
        "colab": {
          "base_uri": "https://localhost:8080/"
        },
        "id": "uDd6ns_J3vx9",
        "outputId": "0fffc2b4-1e08-48da-e715-9b51e3f131a7"
      },
      "execution_count": 89,
      "outputs": [
        {
          "output_type": "execute_result",
          "data": {
            "text/plain": [
              "0.246"
            ]
          },
          "metadata": {},
          "execution_count": 89
        }
      ]
    },
    {
      "cell_type": "markdown",
      "source": [
        "# Testing the SVM Classifier\n",
        "After training, test the classifier on a small testing set. \n",
        "Gauge performance based on TP, TN, FP, FN statistics (i.e. precision, recall, accuracy, etc...)"
      ],
      "metadata": {
        "id": "sqlAujUi2MxJ"
      }
    },
    {
      "cell_type": "code",
      "source": [],
      "metadata": {
        "id": "Iwj0PYCud480"
      },
      "execution_count": null,
      "outputs": []
    }
  ]
}