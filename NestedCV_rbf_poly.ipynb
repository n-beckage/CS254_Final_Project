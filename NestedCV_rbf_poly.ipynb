{
  "cells": [
    {
      "cell_type": "markdown",
      "metadata": {
        "id": "view-in-github",
        "colab_type": "text"
      },
      "source": [
        "<a href=\"https://colab.research.google.com/github/n-beckage/CS254_Final_Project/blob/main/NestedCV_rbf_poly.ipynb\" target=\"_parent\"><img src=\"https://colab.research.google.com/assets/colab-badge.svg\" alt=\"Open In Colab\"/></a>"
      ]
    },
    {
      "cell_type": "markdown",
      "metadata": {
        "id": "HI3bxLpC_6Kc"
      },
      "source": [
        "# README\n",
        "This notebook is for the purpose of creating, optimizing, and evaluating an SVM model on our engineered data (crosswords_engineered.csv)\n"
      ]
    },
    {
      "cell_type": "markdown",
      "metadata": {
        "id": "1U5Rsk8vAu8F"
      },
      "source": [
        "## Set-up Cells"
      ]
    },
    {
      "cell_type": "code",
      "execution_count": 15,
      "metadata": {
        "colab": {
          "base_uri": "https://localhost:8080/"
        },
        "id": "yplCbrR2AQsl",
        "outputId": "ae155c17-6ce9-4980-a0c0-44e1e9f93fc5"
      },
      "outputs": [
        {
          "output_type": "stream",
          "name": "stdout",
          "text": [
            "Mounted at /content/drive/\n"
          ]
        }
      ],
      "source": [
        "import pandas as pd\n",
        "import numpy as np\n",
        "import collections\n",
        "from datetime import date\n",
        "from sklearn.model_selection import train_test_split, KFold, cross_val_score, RandomizedSearchCV, cross_validate\n",
        "from sklearn.svm import SVC\n",
        "from sklearn.utils.fixes import loguniform\n",
        "from sklearn.metrics import confusion_matrix, classification_report, accuracy_score, roc_curve\n",
        "from sklearn.inspection import permutation_importance\n",
        "from sklearn.preprocessing import normalize\n",
        "from matplotlib import pyplot as plt\n",
        "\n",
        "from google.colab import drive\n",
        "drive.mount('/content/drive/')"
      ]
    },
    {
      "cell_type": "code",
      "execution_count": 16,
      "metadata": {
        "colab": {
          "base_uri": "https://localhost:8080/"
        },
        "id": "p5VVnhblAhBs",
        "outputId": "ad04bef6-4781-4f32-e501-bf29a23e92de"
      },
      "outputs": [
        {
          "output_type": "stream",
          "name": "stdout",
          "text": [
            "['nytcrosswords.csv', 'ML Final Project Proposal Presentation.gslides', 'Project_Proposal_Report_Group_2.gdoc', 'Features to engineer.gdoc', 'CS Fair Slides.gslides', 'NestedCV_AllParams.ipynb', 'OLDFeatureEngineering.ipynb', 'OLDcrosswords_engineered.csv', 'crosswords_engineered.csv', 'RandomizedGridCV_rbf_poly.ipynb', 'RandomizedGridCV_AllParams.ipynb', 'Copy of CS254 - Project Final Report Format.gdoc', 'FeatureEngineering.ipynb', 'NestedCV_rbf_poly.ipynb']\n"
          ]
        }
      ],
      "source": [
        "import os\n",
        "\n",
        "# TODO: Fill in the Google Drive path where you uploaded the assignment, it should be under CS254/CS254-Assignments/netid-A2\n",
        "GOOGLE_DRIVE_PATH_AFTER_MYDRIVE = 'CS254/CS 254 Final Project/' # change this directory to yours\n",
        "GOOGLE_DRIVE_PATH = os.path.join('drive', 'MyDrive', GOOGLE_DRIVE_PATH_AFTER_MYDRIVE)\n",
        "print(os.listdir(GOOGLE_DRIVE_PATH))"
      ]
    },
    {
      "cell_type": "markdown",
      "metadata": {
        "id": "R7e3hQSGA4kv"
      },
      "source": [
        "## Data Preparation\n",
        "  1. Load our data from the csv file 'crosswords_engineered.csv'\n",
        "  2. Preliminary analysis - get familiar with the data:\n",
        "    - How many puzzles do we have?\n",
        "    - How balanced is our dataset?\n",
        "    - What features are we using?\n",
        "  3. Randomly shuffe data first to control for any skewness in the data\n",
        "    - for example it's possible the difficulty of puzzles have inflated over time. I.e. maybe a Sunday puzzle from the early 2000's is a lot easier than a Sunday puzzle from 2021; we'd want to randomly shuffle our data before splitting and training to control for this factor"
      ]
    },
    {
      "cell_type": "markdown",
      "metadata": {
        "id": "VnGNEbiIWFbW"
      },
      "source": [
        "### 1. Load Data"
      ]
    },
    {
      "cell_type": "code",
      "execution_count": 17,
      "metadata": {
        "colab": {
          "base_uri": "https://localhost:8080/",
          "height": 334
        },
        "id": "b8M0v6N2ApAX",
        "outputId": "cbd04c88-8e7d-4f3f-a9d7-378dd1858e73"
      },
      "outputs": [
        {
          "output_type": "execute_result",
          "data": {
            "text/plain": [
              "         Date     TARGET  Average Question Length  avg_answer_length  \\\n",
              "0  10/31/2021     Sunday                19.469231           5.107692   \n",
              "1  10/30/2021   Saturday                23.218750           4.859375   \n",
              "2  10/29/2021     Friday                22.421875           5.125000   \n",
              "3  10/28/2021   Thursday                21.861111           4.347222   \n",
              "4  10/27/2021  Wednesday                20.159420           4.333333   \n",
              "\n",
              "   Number of Questions  longest_question  shortest_question  longest_answer  \\\n",
              "0                  130                53                  4              14   \n",
              "1                   64                72                  3              11   \n",
              "2                   64                76                  5               9   \n",
              "3                   72                78                  3              10   \n",
              "4                   69                44                  4              15   \n",
              "\n",
              "   shortest_answer  question_mark_count  ...  short_answers  mid_answers  \\\n",
              "0                3                    8  ...             31           66   \n",
              "1                3                    5  ...             18           34   \n",
              "2                3                    2  ...             12           38   \n",
              "3                3                    2  ...             20           50   \n",
              "4                3                    3  ...             23           44   \n",
              "\n",
              "   sp_questions  fr_questions  abbr_questions  avg_vow_answers  \\\n",
              "0             0             0               1         2.076923   \n",
              "1             0             0               3         1.937500   \n",
              "2             0             0               1         2.031250   \n",
              "3             0             0               0         1.722222   \n",
              "4             0             0               0         1.840580   \n",
              "\n",
              "   duplicate_questions  duplicate_answers  pronouns_ques  cap_let_questions  \n",
              "0                    1                  0              0                179  \n",
              "1                    0                  0              0                100  \n",
              "2                    0                  0              1                 94  \n",
              "3                    0                  0              0                101  \n",
              "4                    0                  0              0                 99  \n",
              "\n",
              "[5 rows x 49 columns]"
            ],
            "text/html": [
              "\n",
              "  <div id=\"df-496492c8-cfd8-467b-b481-08c8dc9d7772\">\n",
              "    <div class=\"colab-df-container\">\n",
              "      <div>\n",
              "<style scoped>\n",
              "    .dataframe tbody tr th:only-of-type {\n",
              "        vertical-align: middle;\n",
              "    }\n",
              "\n",
              "    .dataframe tbody tr th {\n",
              "        vertical-align: top;\n",
              "    }\n",
              "\n",
              "    .dataframe thead th {\n",
              "        text-align: right;\n",
              "    }\n",
              "</style>\n",
              "<table border=\"1\" class=\"dataframe\">\n",
              "  <thead>\n",
              "    <tr style=\"text-align: right;\">\n",
              "      <th></th>\n",
              "      <th>Date</th>\n",
              "      <th>TARGET</th>\n",
              "      <th>Average Question Length</th>\n",
              "      <th>avg_answer_length</th>\n",
              "      <th>Number of Questions</th>\n",
              "      <th>longest_question</th>\n",
              "      <th>shortest_question</th>\n",
              "      <th>longest_answer</th>\n",
              "      <th>shortest_answer</th>\n",
              "      <th>question_mark_count</th>\n",
              "      <th>...</th>\n",
              "      <th>short_answers</th>\n",
              "      <th>mid_answers</th>\n",
              "      <th>sp_questions</th>\n",
              "      <th>fr_questions</th>\n",
              "      <th>abbr_questions</th>\n",
              "      <th>avg_vow_answers</th>\n",
              "      <th>duplicate_questions</th>\n",
              "      <th>duplicate_answers</th>\n",
              "      <th>pronouns_ques</th>\n",
              "      <th>cap_let_questions</th>\n",
              "    </tr>\n",
              "  </thead>\n",
              "  <tbody>\n",
              "    <tr>\n",
              "      <th>0</th>\n",
              "      <td>10/31/2021</td>\n",
              "      <td>Sunday</td>\n",
              "      <td>19.469231</td>\n",
              "      <td>5.107692</td>\n",
              "      <td>130</td>\n",
              "      <td>53</td>\n",
              "      <td>4</td>\n",
              "      <td>14</td>\n",
              "      <td>3</td>\n",
              "      <td>8</td>\n",
              "      <td>...</td>\n",
              "      <td>31</td>\n",
              "      <td>66</td>\n",
              "      <td>0</td>\n",
              "      <td>0</td>\n",
              "      <td>1</td>\n",
              "      <td>2.076923</td>\n",
              "      <td>1</td>\n",
              "      <td>0</td>\n",
              "      <td>0</td>\n",
              "      <td>179</td>\n",
              "    </tr>\n",
              "    <tr>\n",
              "      <th>1</th>\n",
              "      <td>10/30/2021</td>\n",
              "      <td>Saturday</td>\n",
              "      <td>23.218750</td>\n",
              "      <td>4.859375</td>\n",
              "      <td>64</td>\n",
              "      <td>72</td>\n",
              "      <td>3</td>\n",
              "      <td>11</td>\n",
              "      <td>3</td>\n",
              "      <td>5</td>\n",
              "      <td>...</td>\n",
              "      <td>18</td>\n",
              "      <td>34</td>\n",
              "      <td>0</td>\n",
              "      <td>0</td>\n",
              "      <td>3</td>\n",
              "      <td>1.937500</td>\n",
              "      <td>0</td>\n",
              "      <td>0</td>\n",
              "      <td>0</td>\n",
              "      <td>100</td>\n",
              "    </tr>\n",
              "    <tr>\n",
              "      <th>2</th>\n",
              "      <td>10/29/2021</td>\n",
              "      <td>Friday</td>\n",
              "      <td>22.421875</td>\n",
              "      <td>5.125000</td>\n",
              "      <td>64</td>\n",
              "      <td>76</td>\n",
              "      <td>5</td>\n",
              "      <td>9</td>\n",
              "      <td>3</td>\n",
              "      <td>2</td>\n",
              "      <td>...</td>\n",
              "      <td>12</td>\n",
              "      <td>38</td>\n",
              "      <td>0</td>\n",
              "      <td>0</td>\n",
              "      <td>1</td>\n",
              "      <td>2.031250</td>\n",
              "      <td>0</td>\n",
              "      <td>0</td>\n",
              "      <td>1</td>\n",
              "      <td>94</td>\n",
              "    </tr>\n",
              "    <tr>\n",
              "      <th>3</th>\n",
              "      <td>10/28/2021</td>\n",
              "      <td>Thursday</td>\n",
              "      <td>21.861111</td>\n",
              "      <td>4.347222</td>\n",
              "      <td>72</td>\n",
              "      <td>78</td>\n",
              "      <td>3</td>\n",
              "      <td>10</td>\n",
              "      <td>3</td>\n",
              "      <td>2</td>\n",
              "      <td>...</td>\n",
              "      <td>20</td>\n",
              "      <td>50</td>\n",
              "      <td>0</td>\n",
              "      <td>0</td>\n",
              "      <td>0</td>\n",
              "      <td>1.722222</td>\n",
              "      <td>0</td>\n",
              "      <td>0</td>\n",
              "      <td>0</td>\n",
              "      <td>101</td>\n",
              "    </tr>\n",
              "    <tr>\n",
              "      <th>4</th>\n",
              "      <td>10/27/2021</td>\n",
              "      <td>Wednesday</td>\n",
              "      <td>20.159420</td>\n",
              "      <td>4.333333</td>\n",
              "      <td>69</td>\n",
              "      <td>44</td>\n",
              "      <td>4</td>\n",
              "      <td>15</td>\n",
              "      <td>3</td>\n",
              "      <td>3</td>\n",
              "      <td>...</td>\n",
              "      <td>23</td>\n",
              "      <td>44</td>\n",
              "      <td>0</td>\n",
              "      <td>0</td>\n",
              "      <td>0</td>\n",
              "      <td>1.840580</td>\n",
              "      <td>0</td>\n",
              "      <td>0</td>\n",
              "      <td>0</td>\n",
              "      <td>99</td>\n",
              "    </tr>\n",
              "  </tbody>\n",
              "</table>\n",
              "<p>5 rows × 49 columns</p>\n",
              "</div>\n",
              "      <button class=\"colab-df-convert\" onclick=\"convertToInteractive('df-496492c8-cfd8-467b-b481-08c8dc9d7772')\"\n",
              "              title=\"Convert this dataframe to an interactive table.\"\n",
              "              style=\"display:none;\">\n",
              "        \n",
              "  <svg xmlns=\"http://www.w3.org/2000/svg\" height=\"24px\"viewBox=\"0 0 24 24\"\n",
              "       width=\"24px\">\n",
              "    <path d=\"M0 0h24v24H0V0z\" fill=\"none\"/>\n",
              "    <path d=\"M18.56 5.44l.94 2.06.94-2.06 2.06-.94-2.06-.94-.94-2.06-.94 2.06-2.06.94zm-11 1L8.5 8.5l.94-2.06 2.06-.94-2.06-.94L8.5 2.5l-.94 2.06-2.06.94zm10 10l.94 2.06.94-2.06 2.06-.94-2.06-.94-.94-2.06-.94 2.06-2.06.94z\"/><path d=\"M17.41 7.96l-1.37-1.37c-.4-.4-.92-.59-1.43-.59-.52 0-1.04.2-1.43.59L10.3 9.45l-7.72 7.72c-.78.78-.78 2.05 0 2.83L4 21.41c.39.39.9.59 1.41.59.51 0 1.02-.2 1.41-.59l7.78-7.78 2.81-2.81c.8-.78.8-2.07 0-2.86zM5.41 20L4 18.59l7.72-7.72 1.47 1.35L5.41 20z\"/>\n",
              "  </svg>\n",
              "      </button>\n",
              "      \n",
              "  <style>\n",
              "    .colab-df-container {\n",
              "      display:flex;\n",
              "      flex-wrap:wrap;\n",
              "      gap: 12px;\n",
              "    }\n",
              "\n",
              "    .colab-df-convert {\n",
              "      background-color: #E8F0FE;\n",
              "      border: none;\n",
              "      border-radius: 50%;\n",
              "      cursor: pointer;\n",
              "      display: none;\n",
              "      fill: #1967D2;\n",
              "      height: 32px;\n",
              "      padding: 0 0 0 0;\n",
              "      width: 32px;\n",
              "    }\n",
              "\n",
              "    .colab-df-convert:hover {\n",
              "      background-color: #E2EBFA;\n",
              "      box-shadow: 0px 1px 2px rgba(60, 64, 67, 0.3), 0px 1px 3px 1px rgba(60, 64, 67, 0.15);\n",
              "      fill: #174EA6;\n",
              "    }\n",
              "\n",
              "    [theme=dark] .colab-df-convert {\n",
              "      background-color: #3B4455;\n",
              "      fill: #D2E3FC;\n",
              "    }\n",
              "\n",
              "    [theme=dark] .colab-df-convert:hover {\n",
              "      background-color: #434B5C;\n",
              "      box-shadow: 0px 1px 3px 1px rgba(0, 0, 0, 0.15);\n",
              "      filter: drop-shadow(0px 1px 2px rgba(0, 0, 0, 0.3));\n",
              "      fill: #FFFFFF;\n",
              "    }\n",
              "  </style>\n",
              "\n",
              "      <script>\n",
              "        const buttonEl =\n",
              "          document.querySelector('#df-496492c8-cfd8-467b-b481-08c8dc9d7772 button.colab-df-convert');\n",
              "        buttonEl.style.display =\n",
              "          google.colab.kernel.accessAllowed ? 'block' : 'none';\n",
              "\n",
              "        async function convertToInteractive(key) {\n",
              "          const element = document.querySelector('#df-496492c8-cfd8-467b-b481-08c8dc9d7772');\n",
              "          const dataTable =\n",
              "            await google.colab.kernel.invokeFunction('convertToInteractive',\n",
              "                                                     [key], {});\n",
              "          if (!dataTable) return;\n",
              "\n",
              "          const docLinkHtml = 'Like what you see? Visit the ' +\n",
              "            '<a target=\"_blank\" href=https://colab.research.google.com/notebooks/data_table.ipynb>data table notebook</a>'\n",
              "            + ' to learn more about interactive tables.';\n",
              "          element.innerHTML = '';\n",
              "          dataTable['output_type'] = 'display_data';\n",
              "          await google.colab.output.renderOutput(dataTable, element);\n",
              "          const docLink = document.createElement('div');\n",
              "          docLink.innerHTML = docLinkHtml;\n",
              "          element.appendChild(docLink);\n",
              "        }\n",
              "      </script>\n",
              "    </div>\n",
              "  </div>\n",
              "  "
            ]
          },
          "metadata": {},
          "execution_count": 17
        }
      ],
      "source": [
        "# read in the data\n",
        "df = pd.read_csv(GOOGLE_DRIVE_PATH+\"crosswords_engineered.csv\", encoding=\"windows_1258\")\n",
        "df.head() # look at the first few rows"
      ]
    },
    {
      "cell_type": "markdown",
      "metadata": {
        "id": "GErR8tPYWY11"
      },
      "source": [
        "### 2. Analyze Data"
      ]
    },
    {
      "cell_type": "code",
      "execution_count": 18,
      "metadata": {
        "colab": {
          "base_uri": "https://localhost:8080/"
        },
        "id": "KMAWLTg-CaQK",
        "outputId": "506de1d4-ce2b-4470-d62b-888d2fd304fb"
      },
      "outputs": [
        {
          "output_type": "stream",
          "name": "stdout",
          "text": [
            "Current columns are: ['Date' 'TARGET' 'Average Question Length' 'avg_answer_length'\n",
            " 'Number of Questions' 'longest_question' 'shortest_question'\n",
            " 'longest_answer' 'shortest_answer' 'question_mark_count'\n",
            " 'exclamation_count' 'count_ending_with_question' 'a_freq' 'b_freq'\n",
            " 'c_freq' 'd_freq' 'e_freq' 'f_freq' 'g_freq' 'h_freq' 'i_freq' 'j_freq'\n",
            " 'k_freq' 'l_freq' 'm_freq' 'n_freq' 'o_freq' 'p_freq' 'q_freq' 'r_freq'\n",
            " 's_freq' 't_freq' 'u_freq' 'v_freq' 'w_freq' 'x_freq' 'y_freq' 'z_freq'\n",
            " 'long_answers' 'short_answers' 'mid_answers' 'sp_questions'\n",
            " 'fr_questions' 'abbr_questions' 'avg_vow_answers' 'duplicate_questions'\n",
            " 'duplicate_answers' 'pronouns_ques' 'cap_let_questions']\n",
            "\n",
            "Number of features used:  49\n",
            "Number of puzzles (rows in df): 10206\n",
            "\n",
            "Distribution of puzzles:\n",
            "\tSunday: 14.3%\n",
            "\tSaturday: 14.3%\n",
            "\tFriday: 14.3%\n",
            "\tThursday: 14.3%\n",
            "\tWednesday: 14.3%\n",
            "\tTuesday: 14.3%\n",
            "\tMonday: 14.3%\n"
          ]
        }
      ],
      "source": [
        "print(\"Current columns are:\", np.array([i for i in df.columns]))\n",
        "print()\n",
        "print(\"Number of features used: \",len([i for i in df.columns]))\n",
        "print(\"Number of puzzles (rows in df):\",df.shape[0])\n",
        "print()\n",
        "print(\"Distribution of puzzles:\")\n",
        "# Counting the balance of our data\n",
        "elements_count = collections.Counter(df['TARGET'])\n",
        "for key, value in elements_count.items():\n",
        "   print(f\"\\t{key}: {round((value/df.shape[0])*100,1)}%\")"
      ]
    },
    {
      "cell_type": "markdown",
      "metadata": {
        "id": "Hfghozi9Cq3F"
      },
      "source": [
        "## SVM Model Build\n",
        "We are going to try an SVM model with all sorts of fancy bells n whistles. Basically, we are going to use cross-validation with hyperparamter optimization to determine what the best hyperparamters are. For reference, see slide 28 of module 4 (Learning Theory). This medium article on [**nested cross-validation**](https://12ft.io/proxy?q=https%3A%2F%2Ftowardsdatascience.com%2Fnested-cross-validation-hyperparameter-optimization-and-model-selection-5885d84acda%23%3A%7E%3Atext%3DBoth%2520Cross-Validation%2520and%2520Hyperparameter%2520Optimization%2520is%2520an%2520important%2Cset%2520of%2520hyperparameters%2520for%2520that%2520machine%2520learning%2520algorithm.) was also very helpful. **Nested cross-validation** is basically finding optimal hyperparamters for each train/validation split. The hyperparameter set with the best average performance over all splits will then be choosen as the set to be used in our final model.\n",
        "\n",
        "1. Split data into a **development set** and a **evaluation set**\n",
        "  - **development set** is the portion of our data to be used for the train/validation split\n",
        "  - **evaluation set** is the portion of our data held out until the very end when we evaluate our final tuned model; i.e. the test set\n",
        "2. \n",
        "\n",
        "#### Other helpful links\n",
        "- [sklearn nested CV tutorial](https://scikit-learn.org/stable/auto_examples/model_selection/plot_nested_cross_validation_iris.html)"
      ]
    },
    {
      "cell_type": "code",
      "execution_count": 19,
      "metadata": {
        "colab": {
          "base_uri": "https://localhost:8080/",
          "height": 522
        },
        "id": "EKMNB3E_gubr",
        "outputId": "15c59e42-6487-4eed-9d9a-631e670e4d05"
      },
      "outputs": [
        {
          "output_type": "execute_result",
          "data": {
            "text/plain": [
              "       Average Question Length  avg_answer_length  Number of Questions  \\\n",
              "0                    19.469231           5.107692                  130   \n",
              "1                    23.218750           4.859375                   64   \n",
              "2                    22.421875           5.125000                   64   \n",
              "3                    21.861111           4.347222                   72   \n",
              "4                    20.159420           4.333333                   69   \n",
              "...                        ...                ...                  ...   \n",
              "10201                14.920000           4.480000                   75   \n",
              "10202                15.361111           4.569444                   72   \n",
              "10203                15.186667           4.386667                   75   \n",
              "10204                16.013889           4.486111                   72   \n",
              "10205                15.714286           4.400000                   70   \n",
              "\n",
              "       longest_question  shortest_question  longest_answer  shortest_answer  \\\n",
              "0                    53                  4              14                3   \n",
              "1                    72                  3              11                3   \n",
              "2                    76                  5               9                3   \n",
              "3                    78                  3              10                3   \n",
              "4                    44                  4              15                3   \n",
              "...                 ...                ...             ...              ...   \n",
              "10201                30                  4              15                3   \n",
              "10202                36                  3              15                3   \n",
              "10203                27                  4               8                3   \n",
              "10204                37                  3               9                3   \n",
              "10205                36                  3               8                3   \n",
              "\n",
              "       question_mark_count  exclamation_count  count_ending_with_question  \\\n",
              "0                        8                  3                           7   \n",
              "1                        5                  1                           5   \n",
              "2                        2                  2                           0   \n",
              "3                        2                  9                           2   \n",
              "4                        3                  0                           2   \n",
              "...                    ...                ...                         ...   \n",
              "10201                    2                  1                           1   \n",
              "10202                    3                  0                           3   \n",
              "10203                    3                  0                           3   \n",
              "10204                    0                  0                           0   \n",
              "10205                    3                  1                           3   \n",
              "\n",
              "       ...  short_answers  mid_answers  sp_questions  fr_questions  \\\n",
              "0      ...             31           66             0             0   \n",
              "1      ...             18           34             0             0   \n",
              "2      ...             12           38             0             0   \n",
              "3      ...             20           50             0             0   \n",
              "4      ...             23           44             0             0   \n",
              "...    ...            ...          ...           ...           ...   \n",
              "10201  ...             16           56             0             0   \n",
              "10202  ...              9           60             0             0   \n",
              "10203  ...             12           61             0             0   \n",
              "10204  ...             11           59             0             0   \n",
              "10205  ...             21           46             0             0   \n",
              "\n",
              "       abbr_questions  avg_vow_answers  duplicate_questions  \\\n",
              "0                   1         2.076923                    1   \n",
              "1                   3         1.937500                    0   \n",
              "2                   1         2.031250                    0   \n",
              "3                   0         1.722222                    0   \n",
              "4                   0         1.840580                    0   \n",
              "...               ...              ...                  ...   \n",
              "10201               1         1.986667                    0   \n",
              "10202               1         1.986111                    0   \n",
              "10203               1         1.933333                    1   \n",
              "10204               0         1.902778                    0   \n",
              "10205               2         1.985714                    0   \n",
              "\n",
              "       duplicate_answers  pronouns_ques  cap_let_questions  \n",
              "0                      0              0                179  \n",
              "1                      0              0                100  \n",
              "2                      0              1                 94  \n",
              "3                      0              0                101  \n",
              "4                      0              0                 99  \n",
              "...                  ...            ...                ...  \n",
              "10201                  0              0                 98  \n",
              "10202                  0              0                 93  \n",
              "10203                  0              0                 90  \n",
              "10204                  0              0                 97  \n",
              "10205                  0              0                 90  \n",
              "\n",
              "[10206 rows x 47 columns]"
            ],
            "text/html": [
              "\n",
              "  <div id=\"df-be876722-9eda-480d-8a3e-800effe079e1\">\n",
              "    <div class=\"colab-df-container\">\n",
              "      <div>\n",
              "<style scoped>\n",
              "    .dataframe tbody tr th:only-of-type {\n",
              "        vertical-align: middle;\n",
              "    }\n",
              "\n",
              "    .dataframe tbody tr th {\n",
              "        vertical-align: top;\n",
              "    }\n",
              "\n",
              "    .dataframe thead th {\n",
              "        text-align: right;\n",
              "    }\n",
              "</style>\n",
              "<table border=\"1\" class=\"dataframe\">\n",
              "  <thead>\n",
              "    <tr style=\"text-align: right;\">\n",
              "      <th></th>\n",
              "      <th>Average Question Length</th>\n",
              "      <th>avg_answer_length</th>\n",
              "      <th>Number of Questions</th>\n",
              "      <th>longest_question</th>\n",
              "      <th>shortest_question</th>\n",
              "      <th>longest_answer</th>\n",
              "      <th>shortest_answer</th>\n",
              "      <th>question_mark_count</th>\n",
              "      <th>exclamation_count</th>\n",
              "      <th>count_ending_with_question</th>\n",
              "      <th>...</th>\n",
              "      <th>short_answers</th>\n",
              "      <th>mid_answers</th>\n",
              "      <th>sp_questions</th>\n",
              "      <th>fr_questions</th>\n",
              "      <th>abbr_questions</th>\n",
              "      <th>avg_vow_answers</th>\n",
              "      <th>duplicate_questions</th>\n",
              "      <th>duplicate_answers</th>\n",
              "      <th>pronouns_ques</th>\n",
              "      <th>cap_let_questions</th>\n",
              "    </tr>\n",
              "  </thead>\n",
              "  <tbody>\n",
              "    <tr>\n",
              "      <th>0</th>\n",
              "      <td>19.469231</td>\n",
              "      <td>5.107692</td>\n",
              "      <td>130</td>\n",
              "      <td>53</td>\n",
              "      <td>4</td>\n",
              "      <td>14</td>\n",
              "      <td>3</td>\n",
              "      <td>8</td>\n",
              "      <td>3</td>\n",
              "      <td>7</td>\n",
              "      <td>...</td>\n",
              "      <td>31</td>\n",
              "      <td>66</td>\n",
              "      <td>0</td>\n",
              "      <td>0</td>\n",
              "      <td>1</td>\n",
              "      <td>2.076923</td>\n",
              "      <td>1</td>\n",
              "      <td>0</td>\n",
              "      <td>0</td>\n",
              "      <td>179</td>\n",
              "    </tr>\n",
              "    <tr>\n",
              "      <th>1</th>\n",
              "      <td>23.218750</td>\n",
              "      <td>4.859375</td>\n",
              "      <td>64</td>\n",
              "      <td>72</td>\n",
              "      <td>3</td>\n",
              "      <td>11</td>\n",
              "      <td>3</td>\n",
              "      <td>5</td>\n",
              "      <td>1</td>\n",
              "      <td>5</td>\n",
              "      <td>...</td>\n",
              "      <td>18</td>\n",
              "      <td>34</td>\n",
              "      <td>0</td>\n",
              "      <td>0</td>\n",
              "      <td>3</td>\n",
              "      <td>1.937500</td>\n",
              "      <td>0</td>\n",
              "      <td>0</td>\n",
              "      <td>0</td>\n",
              "      <td>100</td>\n",
              "    </tr>\n",
              "    <tr>\n",
              "      <th>2</th>\n",
              "      <td>22.421875</td>\n",
              "      <td>5.125000</td>\n",
              "      <td>64</td>\n",
              "      <td>76</td>\n",
              "      <td>5</td>\n",
              "      <td>9</td>\n",
              "      <td>3</td>\n",
              "      <td>2</td>\n",
              "      <td>2</td>\n",
              "      <td>0</td>\n",
              "      <td>...</td>\n",
              "      <td>12</td>\n",
              "      <td>38</td>\n",
              "      <td>0</td>\n",
              "      <td>0</td>\n",
              "      <td>1</td>\n",
              "      <td>2.031250</td>\n",
              "      <td>0</td>\n",
              "      <td>0</td>\n",
              "      <td>1</td>\n",
              "      <td>94</td>\n",
              "    </tr>\n",
              "    <tr>\n",
              "      <th>3</th>\n",
              "      <td>21.861111</td>\n",
              "      <td>4.347222</td>\n",
              "      <td>72</td>\n",
              "      <td>78</td>\n",
              "      <td>3</td>\n",
              "      <td>10</td>\n",
              "      <td>3</td>\n",
              "      <td>2</td>\n",
              "      <td>9</td>\n",
              "      <td>2</td>\n",
              "      <td>...</td>\n",
              "      <td>20</td>\n",
              "      <td>50</td>\n",
              "      <td>0</td>\n",
              "      <td>0</td>\n",
              "      <td>0</td>\n",
              "      <td>1.722222</td>\n",
              "      <td>0</td>\n",
              "      <td>0</td>\n",
              "      <td>0</td>\n",
              "      <td>101</td>\n",
              "    </tr>\n",
              "    <tr>\n",
              "      <th>4</th>\n",
              "      <td>20.159420</td>\n",
              "      <td>4.333333</td>\n",
              "      <td>69</td>\n",
              "      <td>44</td>\n",
              "      <td>4</td>\n",
              "      <td>15</td>\n",
              "      <td>3</td>\n",
              "      <td>3</td>\n",
              "      <td>0</td>\n",
              "      <td>2</td>\n",
              "      <td>...</td>\n",
              "      <td>23</td>\n",
              "      <td>44</td>\n",
              "      <td>0</td>\n",
              "      <td>0</td>\n",
              "      <td>0</td>\n",
              "      <td>1.840580</td>\n",
              "      <td>0</td>\n",
              "      <td>0</td>\n",
              "      <td>0</td>\n",
              "      <td>99</td>\n",
              "    </tr>\n",
              "    <tr>\n",
              "      <th>...</th>\n",
              "      <td>...</td>\n",
              "      <td>...</td>\n",
              "      <td>...</td>\n",
              "      <td>...</td>\n",
              "      <td>...</td>\n",
              "      <td>...</td>\n",
              "      <td>...</td>\n",
              "      <td>...</td>\n",
              "      <td>...</td>\n",
              "      <td>...</td>\n",
              "      <td>...</td>\n",
              "      <td>...</td>\n",
              "      <td>...</td>\n",
              "      <td>...</td>\n",
              "      <td>...</td>\n",
              "      <td>...</td>\n",
              "      <td>...</td>\n",
              "      <td>...</td>\n",
              "      <td>...</td>\n",
              "      <td>...</td>\n",
              "      <td>...</td>\n",
              "    </tr>\n",
              "    <tr>\n",
              "      <th>10201</th>\n",
              "      <td>14.920000</td>\n",
              "      <td>4.480000</td>\n",
              "      <td>75</td>\n",
              "      <td>30</td>\n",
              "      <td>4</td>\n",
              "      <td>15</td>\n",
              "      <td>3</td>\n",
              "      <td>2</td>\n",
              "      <td>1</td>\n",
              "      <td>1</td>\n",
              "      <td>...</td>\n",
              "      <td>16</td>\n",
              "      <td>56</td>\n",
              "      <td>0</td>\n",
              "      <td>0</td>\n",
              "      <td>1</td>\n",
              "      <td>1.986667</td>\n",
              "      <td>0</td>\n",
              "      <td>0</td>\n",
              "      <td>0</td>\n",
              "      <td>98</td>\n",
              "    </tr>\n",
              "    <tr>\n",
              "      <th>10202</th>\n",
              "      <td>15.361111</td>\n",
              "      <td>4.569444</td>\n",
              "      <td>72</td>\n",
              "      <td>36</td>\n",
              "      <td>3</td>\n",
              "      <td>15</td>\n",
              "      <td>3</td>\n",
              "      <td>3</td>\n",
              "      <td>0</td>\n",
              "      <td>3</td>\n",
              "      <td>...</td>\n",
              "      <td>9</td>\n",
              "      <td>60</td>\n",
              "      <td>0</td>\n",
              "      <td>0</td>\n",
              "      <td>1</td>\n",
              "      <td>1.986111</td>\n",
              "      <td>0</td>\n",
              "      <td>0</td>\n",
              "      <td>0</td>\n",
              "      <td>93</td>\n",
              "    </tr>\n",
              "    <tr>\n",
              "      <th>10203</th>\n",
              "      <td>15.186667</td>\n",
              "      <td>4.386667</td>\n",
              "      <td>75</td>\n",
              "      <td>27</td>\n",
              "      <td>4</td>\n",
              "      <td>8</td>\n",
              "      <td>3</td>\n",
              "      <td>3</td>\n",
              "      <td>0</td>\n",
              "      <td>3</td>\n",
              "      <td>...</td>\n",
              "      <td>12</td>\n",
              "      <td>61</td>\n",
              "      <td>0</td>\n",
              "      <td>0</td>\n",
              "      <td>1</td>\n",
              "      <td>1.933333</td>\n",
              "      <td>1</td>\n",
              "      <td>0</td>\n",
              "      <td>0</td>\n",
              "      <td>90</td>\n",
              "    </tr>\n",
              "    <tr>\n",
              "      <th>10204</th>\n",
              "      <td>16.013889</td>\n",
              "      <td>4.486111</td>\n",
              "      <td>72</td>\n",
              "      <td>37</td>\n",
              "      <td>3</td>\n",
              "      <td>9</td>\n",
              "      <td>3</td>\n",
              "      <td>0</td>\n",
              "      <td>0</td>\n",
              "      <td>0</td>\n",
              "      <td>...</td>\n",
              "      <td>11</td>\n",
              "      <td>59</td>\n",
              "      <td>0</td>\n",
              "      <td>0</td>\n",
              "      <td>0</td>\n",
              "      <td>1.902778</td>\n",
              "      <td>0</td>\n",
              "      <td>0</td>\n",
              "      <td>0</td>\n",
              "      <td>97</td>\n",
              "    </tr>\n",
              "    <tr>\n",
              "      <th>10205</th>\n",
              "      <td>15.714286</td>\n",
              "      <td>4.400000</td>\n",
              "      <td>70</td>\n",
              "      <td>36</td>\n",
              "      <td>3</td>\n",
              "      <td>8</td>\n",
              "      <td>3</td>\n",
              "      <td>3</td>\n",
              "      <td>1</td>\n",
              "      <td>3</td>\n",
              "      <td>...</td>\n",
              "      <td>21</td>\n",
              "      <td>46</td>\n",
              "      <td>0</td>\n",
              "      <td>0</td>\n",
              "      <td>2</td>\n",
              "      <td>1.985714</td>\n",
              "      <td>0</td>\n",
              "      <td>0</td>\n",
              "      <td>0</td>\n",
              "      <td>90</td>\n",
              "    </tr>\n",
              "  </tbody>\n",
              "</table>\n",
              "<p>10206 rows × 47 columns</p>\n",
              "</div>\n",
              "      <button class=\"colab-df-convert\" onclick=\"convertToInteractive('df-be876722-9eda-480d-8a3e-800effe079e1')\"\n",
              "              title=\"Convert this dataframe to an interactive table.\"\n",
              "              style=\"display:none;\">\n",
              "        \n",
              "  <svg xmlns=\"http://www.w3.org/2000/svg\" height=\"24px\"viewBox=\"0 0 24 24\"\n",
              "       width=\"24px\">\n",
              "    <path d=\"M0 0h24v24H0V0z\" fill=\"none\"/>\n",
              "    <path d=\"M18.56 5.44l.94 2.06.94-2.06 2.06-.94-2.06-.94-.94-2.06-.94 2.06-2.06.94zm-11 1L8.5 8.5l.94-2.06 2.06-.94-2.06-.94L8.5 2.5l-.94 2.06-2.06.94zm10 10l.94 2.06.94-2.06 2.06-.94-2.06-.94-.94-2.06-.94 2.06-2.06.94z\"/><path d=\"M17.41 7.96l-1.37-1.37c-.4-.4-.92-.59-1.43-.59-.52 0-1.04.2-1.43.59L10.3 9.45l-7.72 7.72c-.78.78-.78 2.05 0 2.83L4 21.41c.39.39.9.59 1.41.59.51 0 1.02-.2 1.41-.59l7.78-7.78 2.81-2.81c.8-.78.8-2.07 0-2.86zM5.41 20L4 18.59l7.72-7.72 1.47 1.35L5.41 20z\"/>\n",
              "  </svg>\n",
              "      </button>\n",
              "      \n",
              "  <style>\n",
              "    .colab-df-container {\n",
              "      display:flex;\n",
              "      flex-wrap:wrap;\n",
              "      gap: 12px;\n",
              "    }\n",
              "\n",
              "    .colab-df-convert {\n",
              "      background-color: #E8F0FE;\n",
              "      border: none;\n",
              "      border-radius: 50%;\n",
              "      cursor: pointer;\n",
              "      display: none;\n",
              "      fill: #1967D2;\n",
              "      height: 32px;\n",
              "      padding: 0 0 0 0;\n",
              "      width: 32px;\n",
              "    }\n",
              "\n",
              "    .colab-df-convert:hover {\n",
              "      background-color: #E2EBFA;\n",
              "      box-shadow: 0px 1px 2px rgba(60, 64, 67, 0.3), 0px 1px 3px 1px rgba(60, 64, 67, 0.15);\n",
              "      fill: #174EA6;\n",
              "    }\n",
              "\n",
              "    [theme=dark] .colab-df-convert {\n",
              "      background-color: #3B4455;\n",
              "      fill: #D2E3FC;\n",
              "    }\n",
              "\n",
              "    [theme=dark] .colab-df-convert:hover {\n",
              "      background-color: #434B5C;\n",
              "      box-shadow: 0px 1px 3px 1px rgba(0, 0, 0, 0.15);\n",
              "      filter: drop-shadow(0px 1px 2px rgba(0, 0, 0, 0.3));\n",
              "      fill: #FFFFFF;\n",
              "    }\n",
              "  </style>\n",
              "\n",
              "      <script>\n",
              "        const buttonEl =\n",
              "          document.querySelector('#df-be876722-9eda-480d-8a3e-800effe079e1 button.colab-df-convert');\n",
              "        buttonEl.style.display =\n",
              "          google.colab.kernel.accessAllowed ? 'block' : 'none';\n",
              "\n",
              "        async function convertToInteractive(key) {\n",
              "          const element = document.querySelector('#df-be876722-9eda-480d-8a3e-800effe079e1');\n",
              "          const dataTable =\n",
              "            await google.colab.kernel.invokeFunction('convertToInteractive',\n",
              "                                                     [key], {});\n",
              "          if (!dataTable) return;\n",
              "\n",
              "          const docLinkHtml = 'Like what you see? Visit the ' +\n",
              "            '<a target=\"_blank\" href=https://colab.research.google.com/notebooks/data_table.ipynb>data table notebook</a>'\n",
              "            + ' to learn more about interactive tables.';\n",
              "          element.innerHTML = '';\n",
              "          dataTable['output_type'] = 'display_data';\n",
              "          await google.colab.output.renderOutput(dataTable, element);\n",
              "          const docLink = document.createElement('div');\n",
              "          docLink.innerHTML = docLinkHtml;\n",
              "          element.appendChild(docLink);\n",
              "        }\n",
              "      </script>\n",
              "    </div>\n",
              "  </div>\n",
              "  "
            ]
          },
          "metadata": {},
          "execution_count": 19
        }
      ],
      "source": [
        "# this slices the dataframe to get all the features\n",
        "df.iloc[:,2:]"
      ]
    },
    {
      "cell_type": "code",
      "execution_count": 20,
      "metadata": {
        "id": "S4xRYXb1A6hm"
      },
      "outputs": [],
      "source": [
        "# splitting the data into development and evaluation (test) sets\n",
        "# note that this also shuffles the data\n",
        "# df.iloc[:,2:] selects all features (all columns but 'Date' and 'TARGET')\n",
        "x_train, x_test, y_train, y_test = train_test_split(df.iloc[:,2:], df[\"TARGET\"], test_size = 0.15, random_state=0)"
      ]
    },
    {
      "cell_type": "markdown",
      "metadata": {
        "id": "BgQqa63Vop1r"
      },
      "source": [
        "### Defining hyper-hyperparameters\n",
        "aka defininig the parameter grid for random search. Note that we're only considering the rbf and poly kernels here as previous trials have shown that they are the quickest among all the kernels and equally effective.\n",
        "- Also chose to use 5-fold CV as that is the default value and seems reasonable for a dataset of our size\n",
        "- The [sklearn SVM](https://scikit-learn.org/stable/modules/generated/sklearn.svm.SVC.html) documentation details which kernels get which parameters.\n"
      ]
    },
    {
      "cell_type": "code",
      "execution_count": 21,
      "metadata": {
        "id": "GC-9aJgJiMAB"
      },
      "outputs": [],
      "source": [
        "# defining our paramater grids - just rbf and sigmoid kernels\n",
        "param_grid = {\n",
        "    'C': loguniform(1, 100),\n",
        "    'gamma': loguniform(0.0001, 0.001),\n",
        "    'kernel': ['rbf','poly'],\n",
        "    'degree': range(1,10)}"
      ]
    },
    {
      "cell_type": "code",
      "execution_count": 22,
      "metadata": {
        "id": "_g_DAU-LlNsD"
      },
      "outputs": [],
      "source": [
        "# creating a default svm\n",
        "svm = SVC()"
      ]
    },
    {
      "cell_type": "code",
      "execution_count": 23,
      "metadata": {
        "id": "E6MzSVrkqxLi"
      },
      "outputs": [],
      "source": [
        "# Choose cross-validation techniques for the inner and outer loops. No need to shuffle as data was already shuffled during train_test_split\n",
        "cross_val = KFold(n_splits=5)"
      ]
    },
    {
      "cell_type": "markdown",
      "metadata": {
        "id": "T8DdUfd6x4NA"
      },
      "source": [
        "### RandomizedSearchCV Nested - no need to run this more than once.\n",
        "takes ~10 minutes and likely won't give us better results anyway. We saved the optimal parameters that reuslted from this search."
      ]
    },
    {
      "cell_type": "code",
      "execution_count": 24,
      "metadata": {
        "id": "cX32zTFgr7MH"
      },
      "outputs": [],
      "source": [
        "# model = RandomizedSearchCV(estimator = svm, param_distributions=param_grid, cv = cross_val, n_iter=10, verbose=1)\n",
        "# cv = cross_validate(model, X=x_test, y=y_test, cv=cross_val, verbose = 1, return_train_score=True, return_estimator=True)"
      ]
    },
    {
      "cell_type": "code",
      "execution_count": 25,
      "metadata": {
        "id": "iNu8zo0Y424n"
      },
      "outputs": [],
      "source": [
        "# # we will loop through our models and pick the best one\n",
        "# test_scores=[]\n",
        "# for model in cv['estimator']:\n",
        "#   test_scores.append(model.score(x_test,y_test))\n",
        "# best_model = cv['estimator'][test_scores.index(max(test_scores))]\n",
        "# print(\"Best validation accuracy from model with optimal paramters:\", max(test_scores))"
      ]
    },
    {
      "cell_type": "code",
      "source": [
        "# print(\"OPTIMAL SVM PARAMETERS:\")\n",
        "# optimal_params=best_model.best_params_\n",
        "# print(optimal_params)\n",
        "# print(\"Accuracy on test set:\")\n",
        "# print(best_model.score(x_test,y_test))"
      ],
      "metadata": {
        "id": "SuBfcWUjh4UU"
      },
      "execution_count": 26,
      "outputs": []
    },
    {
      "cell_type": "code",
      "source": [
        "# OPTIMAL SVM PARAMETERS:\n",
        "optimal_params={'C': 10.838573202243223, 'degree': 2, 'gamma': 0.00018022173678741978, 'kernel': 'rbf'}\n",
        "# Accuracy on test set:\n",
        "# 0.6126714565643371"
      ],
      "metadata": {
        "id": "h2-kFZG4kgll"
      },
      "execution_count": 27,
      "outputs": []
    },
    {
      "cell_type": "code",
      "source": [
        "# creating a seperate model with optimized hyperparamters\n",
        "optimized_svm = SVC(C=optimal_params['C'], kernel=optimal_params['kernel'], gamma=optimal_params['gamma'])\n",
        "optimized_svm.fit(x_train,y_train)"
      ],
      "metadata": {
        "colab": {
          "base_uri": "https://localhost:8080/"
        },
        "id": "lA_I8biWkUZS",
        "outputId": "c9ef9c3c-3994-451e-95d9-2f5e531f2ef6"
      },
      "execution_count": 28,
      "outputs": [
        {
          "output_type": "execute_result",
          "data": {
            "text/plain": [
              "SVC(C=10.838573202243223, gamma=0.00018022173678741978)"
            ]
          },
          "metadata": {},
          "execution_count": 28
        }
      ]
    },
    {
      "cell_type": "code",
      "execution_count": 29,
      "metadata": {
        "colab": {
          "base_uri": "https://localhost:8080/"
        },
        "id": "r-0Hui43JIMv",
        "outputId": "1eabdf2f-4cda-4783-dffe-3772b44b0514"
      },
      "outputs": [
        {
          "output_type": "execute_result",
          "data": {
            "text/plain": [
              "0.565643370346179"
            ]
          },
          "metadata": {},
          "execution_count": 29
        }
      ],
      "source": [
        "# somehow the accuracy is less when we create a new model with the optimal hyperparameters - maybe because no CV is involved?\n",
        "# print(np.mean(cross_val_score(optimized_svm, x_train, y_train)))\n",
        "optimized_svm.score(x_test,y_test)"
      ]
    },
    {
      "cell_type": "code",
      "source": [
        "optimized_svm"
      ],
      "metadata": {
        "colab": {
          "base_uri": "https://localhost:8080/"
        },
        "id": "XgFYoW9pl-vb",
        "outputId": "915a3c56-4f6a-44f2-f48a-0a75756f9d2a"
      },
      "execution_count": 30,
      "outputs": [
        {
          "output_type": "execute_result",
          "data": {
            "text/plain": [
              "SVC(C=10.838573202243223, gamma=0.00018022173678741978)"
            ]
          },
          "metadata": {},
          "execution_count": 30
        }
      ]
    },
    {
      "cell_type": "markdown",
      "source": [
        "### Making a Confusion Marix on test set"
      ],
      "metadata": {
        "id": "Bl_EqzW_lB63"
      }
    },
    {
      "cell_type": "code",
      "source": [
        "from sklearn.metrics._plot.confusion_matrix import ConfusionMatrixDisplay\n",
        "cm = ConfusionMatrixDisplay.from_estimator(optimized_svm,\n",
        "                                           x_test,\n",
        "                                           y_test,\n",
        "                                           normalize=\"true\",\n",
        "                                           cmap = plt.cm.plasma,\n",
        "                                           xticks_rotation=\"vertical\",\n",
        "                                           colorbar=False)\n",
        "cm.ax_.set_title(\"Optimized SVM Performance on Test Set\")\n",
        "cb = cm.figure_.colorbar(mappable=cm.im_,label=\"Normalized Rate\")"
      ],
      "metadata": {
        "colab": {
          "base_uri": "https://localhost:8080/",
          "height": 343
        },
        "id": "2js4N79Qm-hS",
        "outputId": "1a53be4d-8670-441b-e0de-edd59bad385a"
      },
      "execution_count": 31,
      "outputs": [
        {
          "output_type": "display_data",
          "data": {
            "text/plain": [
              "<Figure size 432x288 with 2 Axes>"
            ],
            "image/png": "[encoded data removed]"
          },
          "metadata": {
            "needs_background": "light"
          }
        }
      ]
    },
    {
      "cell_type": "markdown",
      "source": [
        "### Making classification report"
      ],
      "metadata": {
        "id": "AoD3Qx14yFfE"
      }
    },
    {
      "cell_type": "code",
      "source": [
        "y_preds=optimized_svm.predict(x_test)\n",
        "print(len(y_test))\n",
        "print(len(x_test))"
      ],
      "metadata": {
        "id": "scVdaKuyyKix",
        "colab": {
          "base_uri": "https://localhost:8080/"
        },
        "outputId": "7537acc1-ee03-47b4-fba2-982f3d4dffa3"
      },
      "execution_count": 32,
      "outputs": [
        {
          "output_type": "stream",
          "name": "stdout",
          "text": [
            "1531\n",
            "1531\n"
          ]
        }
      ]
    },
    {
      "cell_type": "code",
      "source": [
        "print(\"OPTIMIZED PARAMETERS:\")\n",
        "print(\"\\tkernel =\",optimal_params['kernel'])\n",
        "print(\"\\tgamma =\",optimal_params['gamma'])\n",
        "print(\"\\tC =\",optimal_params['C'],'\\n')\n",
        "print(\"TEST SET REPORT:\")\n",
        "print(classification_report(y_test,y_preds))"
      ],
      "metadata": {
        "colab": {
          "base_uri": "https://localhost:8080/"
        },
        "id": "TVmjnokpyeLN",
        "outputId": "39a777c8-bac3-4238-8186-08940f3507f9"
      },
      "execution_count": 33,
      "outputs": [
        {
          "output_type": "stream",
          "name": "stdout",
          "text": [
            "OPTIMIZED PARAMETERS:\n",
            "\tkernel = rbf\n",
            "\tgamma = 0.00018022173678741978\n",
            "\tC = 10.838573202243223 \n",
            "\n",
            "TEST SET REPORT:\n",
            "              precision    recall  f1-score   support\n",
            "\n",
            "      Friday       0.47      0.48      0.47       198\n",
            "      Monday       0.56      0.70      0.62       227\n",
            "    Saturday       0.63      0.62      0.62       225\n",
            "      Sunday       1.00      1.00      1.00       221\n",
            "    Thursday       0.49      0.51      0.50       217\n",
            "     Tuesday       0.33      0.27      0.30       214\n",
            "   Wednesday       0.42      0.36      0.39       229\n",
            "\n",
            "    accuracy                           0.57      1531\n",
            "   macro avg       0.56      0.56      0.56      1531\n",
            "weighted avg       0.56      0.57      0.56      1531\n",
            "\n"
          ]
        }
      ]
    },
    {
      "cell_type": "markdown",
      "source": [
        "### Making a confision matrix on pooled target labels\n",
        "- Easy = Mon andTues\n",
        "- Moderate = Weds and Thurs\n",
        "- Hard = Fri and Sat\n",
        "- Sunday"
      ],
      "metadata": {
        "id": "xvY8AhvVkCbQ"
      }
    },
    {
      "cell_type": "code",
      "source": [
        "# function to pool target labels\n",
        "def pool_labels(labels):\n",
        "  for i,l in enumerate(labels):\n",
        "    if l in [\"Monday\", \"Tuesday\"]:\n",
        "      labels[i] = \"Easy\"\n",
        "    elif l in [\"Wednesday\", \"Thursday\"]:\n",
        "      labels[i] = \"Moderate\"\n",
        "    elif l in [\"Friday\", \"Saturday\"]:\n",
        "      labels[i] = \"Hard\"\n",
        "  return labels"
      ],
      "metadata": {
        "id": "wnJSkAsWkKPT"
      },
      "execution_count": 34,
      "outputs": []
    },
    {
      "cell_type": "code",
      "source": [
        "np.array(y_preds)"
      ],
      "metadata": {
        "colab": {
          "base_uri": "https://localhost:8080/"
        },
        "id": "fNLHoG3TpXCi",
        "outputId": "5ff06c02-4f7b-40d9-8862-696e31a61b1f"
      },
      "execution_count": 35,
      "outputs": [
        {
          "output_type": "execute_result",
          "data": {
            "text/plain": [
              "array(['Friday', 'Friday', 'Sunday', ..., 'Tuesday', 'Wednesday',\n",
              "       'Tuesday'], dtype=object)"
            ]
          },
          "metadata": {},
          "execution_count": 35
        }
      ]
    },
    {
      "cell_type": "code",
      "source": [
        "print(len(y_preds))\n",
        "print(len(y_test))\n",
        "print(len(pool_labels(y_preds)))\n",
        "print(len(pool_labels(np.array(y_test))))"
      ],
      "metadata": {
        "colab": {
          "base_uri": "https://localhost:8080/"
        },
        "id": "zVoB_qW4kPTH",
        "outputId": "02a5c8e0-f7cb-4df0-d398-7fb740bb1619"
      },
      "execution_count": 36,
      "outputs": [
        {
          "output_type": "stream",
          "name": "stdout",
          "text": [
            "1531\n",
            "1531\n",
            "1531\n",
            "1531\n"
          ]
        }
      ]
    },
    {
      "cell_type": "code",
      "source": [
        "pooled_cm = ConfusionMatrixDisplay.from_predictions(pool_labels(np.array(y_test)),\n",
        "                                                    pool_labels(y_preds),\n",
        "                                                    normalize=\"true\",\n",
        "                                                    cmap = plt.cm.plasma,\n",
        "                                                    xticks_rotation=\"horizontal\",\n",
        "                                                    colorbar=False)\n",
        "pooled_cm.ax_.set_title(\"Optimized SVM Performance on Test Set\")\n",
        "pooled_cb = pooled_cm.figure_.colorbar(mappable=cm.im_,label=\"Normalized Rate\")"
      ],
      "metadata": {
        "colab": {
          "base_uri": "https://localhost:8080/",
          "height": 295
        },
        "id": "M5SkQ3TQkRTm",
        "outputId": "b1201943-cecc-431e-9c9d-c5a1b469edc2"
      },
      "execution_count": 37,
      "outputs": [
        {
          "output_type": "display_data",
          "data": {
            "text/plain": [
              "<Figure size 432x288 with 2 Axes>"
            ],
            "image/png": "[encoded data removed]"
          },
          "metadata": {
            "needs_background": "light"
          }
        }
      ]
    },
    {
      "cell_type": "markdown",
      "source": [
        "### Classification report on pooled target labels"
      ],
      "metadata": {
        "id": "1zUKxgEbsqoJ"
      }
    },
    {
      "cell_type": "code",
      "source": [
        "print(\"OPTIMIZED PARAMETERS:\")\n",
        "print(\"\\tkernel =\",optimal_params['kernel'])\n",
        "print(\"\\tgamma =\",optimal_params['gamma'])\n",
        "print(\"\\tC =\",optimal_params['C'],'\\n')\n",
        "print(\"TEST SET REPORT:\")\n",
        "print(classification_report(pool_labels(np.array(y_test)),pool_labels(y_preds)))"
      ],
      "metadata": {
        "colab": {
          "base_uri": "https://localhost:8080/"
        },
        "id": "KdMVKvcvnPr0",
        "outputId": "29e0be08-3fe2-4ccb-b963-c87d514ef342"
      },
      "execution_count": 38,
      "outputs": [
        {
          "output_type": "stream",
          "name": "stdout",
          "text": [
            "OPTIMIZED PARAMETERS:\n",
            "\tkernel = rbf\n",
            "\tgamma = 0.00018022173678741978\n",
            "\tC = 10.838573202243223 \n",
            "\n",
            "TEST SET REPORT:\n",
            "              precision    recall  f1-score   support\n",
            "\n",
            "        Easy       0.72      0.76      0.74       441\n",
            "        Hard       0.89      0.89      0.89       423\n",
            "    Moderate       0.66      0.63      0.64       446\n",
            "      Sunday       1.00      1.00      1.00       221\n",
            "\n",
            "    accuracy                           0.79      1531\n",
            "   macro avg       0.82      0.82      0.82      1531\n",
            "weighted avg       0.79      0.79      0.79      1531\n",
            "\n"
          ]
        }
      ]
    },
    {
      "cell_type": "markdown",
      "source": [
        "### Retraining model on pooled target labels"
      ],
      "metadata": {
        "id": "H3xobGYeziDF"
      }
    },
    {
      "cell_type": "markdown",
      "source": [
        "#### RandomSearchCV with pooled target labels\n",
        "No need to run more than once - took about 5-10 minutes"
      ],
      "metadata": {
        "id": "UdfH3PaH1qXq"
      }
    },
    {
      "cell_type": "code",
      "source": [
        "# model = RandomizedSearchCV(estimator = svm, param_distributions=param_grid, cv = cross_val, n_iter=10, verbose=1)\n",
        "# cv = cross_validate(model, X=x_test, y=pool_labels(np.array(y_test)), cv=cross_val, verbose = 1, return_train_score=True, return_estimator=True)"
      ],
      "metadata": {
        "id": "FLh6UViQz-vA"
      },
      "execution_count": 39,
      "outputs": []
    },
    {
      "cell_type": "code",
      "source": [
        "# # we will loop through our models and pick the best one\n",
        "# test_scores=[]\n",
        "# for model in cv['estimator']:\n",
        "# test_scores.append(model.score(x_test,pool_labels(np.array(y_test))))\n",
        "# best_pooled_model = cv['estimator'][test_scores.index(max(test_scores))]\n",
        "# print(\"Best validation accuracy from model with optimal paramters:\", max(test_scores))]]"
      ],
      "metadata": {
        "id": "qRo8MIGV1y-g"
      },
      "execution_count": 40,
      "outputs": []
    },
    {
      "cell_type": "code",
      "source": [
        "# print(\"OPTIMAL Pooled SVM PARAMETERS:\")\n",
        "# optimal_pooled_params=best_pooled_model.best_params_\n",
        "# print(optimal_pooled_params)\n",
        "# print(\"Accuracy on test set:\")\n",
        "# print(best_pooled_model.score(x_test,pool_labels(np.array(y_test))))"
      ],
      "metadata": {
        "id": "PEB-5ZYS2EC8"
      },
      "execution_count": 41,
      "outputs": []
    },
    {
      "cell_type": "code",
      "source": [
        "# OPTIMAL POOLED SVM PARAMETERS:\n",
        "optimal_pooled_params={'C': 8.104847330840652, 'degree': 2, 'gamma': 0.00014640514398050753, 'kernel': 'rbf'}\n",
        "# Accuracy on test set:\n",
        "# 0.8079686479425212"
      ],
      "metadata": {
        "id": "wEFYJGUB2Su4"
      },
      "execution_count": 42,
      "outputs": []
    },
    {
      "cell_type": "markdown",
      "source": [
        "#### Fitting Pooled SVM Model"
      ],
      "metadata": {
        "id": "DpmWRtbS3Uh0"
      }
    },
    {
      "cell_type": "code",
      "source": [
        "# creating a seperate model with optimized hyperparamters\n",
        "optimized_pooled_svm = SVC(C=optimal_pooled_params['C'], kernel=optimal_pooled_params['kernel'], gamma=optimal_pooled_params['gamma'])\n",
        "optimized_pooled_svm.fit(x_train,pool_labels(np.array(y_train)))"
      ],
      "metadata": {
        "colab": {
          "base_uri": "https://localhost:8080/"
        },
        "id": "yOSJkbYc3c-j",
        "outputId": "0bc6c439-a951-4a19-8f82-00e655e8a4bd"
      },
      "execution_count": 43,
      "outputs": [
        {
          "output_type": "execute_result",
          "data": {
            "text/plain": [
              "SVC(C=8.104847330840652, gamma=0.00014640514398050753)"
            ]
          },
          "metadata": {},
          "execution_count": 43
        }
      ]
    },
    {
      "cell_type": "code",
      "source": [
        "# somehow the accuracy is less when we create a new model with the optimal hyperparameters - maybe because no CV is involved?\n",
        "optimized_pooled_svm.score(x_test,pool_labels(np.array(y_test)))"
      ],
      "metadata": {
        "colab": {
          "base_uri": "https://localhost:8080/"
        },
        "id": "g5e4b_xa4AlQ",
        "outputId": "2407a7ee-d27f-48ee-fc18-853c35186f5a"
      },
      "execution_count": 44,
      "outputs": [
        {
          "output_type": "execute_result",
          "data": {
            "text/plain": [
              "0.7955584585238407"
            ]
          },
          "metadata": {},
          "execution_count": 44
        }
      ]
    },
    {
      "cell_type": "markdown",
      "source": [
        "#### Pooled-trained confusion matrix"
      ],
      "metadata": {
        "id": "rvG3lfuo3H1W"
      }
    },
    {
      "cell_type": "code",
      "source": [
        "from sklearn.metrics._plot.confusion_matrix import ConfusionMatrixDisplay\n",
        "cm = ConfusionMatrixDisplay.from_estimator(optimized_pooled_svm,\n",
        "                                           x_test,\n",
        "                                           pool_labels(np.array(y_test)),\n",
        "                                           normalize=\"true\",\n",
        "                                           cmap = plt.cm.plasma,\n",
        "                                           xticks_rotation=\"vertical\",\n",
        "                                           colorbar=False)\n",
        "cm.ax_.set_title(\"Optimized Pooled SVM Performance on Test Set\")\n",
        "cb = cm.figure_.colorbar(mappable=cm.im_,label=\"Normalized Rate\")"
      ],
      "metadata": {
        "colab": {
          "base_uri": "https://localhost:8080/",
          "height": 0
        },
        "id": "VnbFiql_3Eax",
        "outputId": "45c4031a-e36f-476b-b394-56059dc7fa3b"
      },
      "execution_count": 45,
      "outputs": [
        {
          "output_type": "display_data",
          "data": {
            "text/plain": [
              "<Figure size 432x288 with 2 Axes>"
            ],
            "image/png": "[encoded data removed]"
          },
          "metadata": {
            "needs_background": "light"
          }
        }
      ]
    },
    {
      "cell_type": "markdown",
      "source": [
        "#### Pooled-trained SVM report"
      ],
      "metadata": {
        "id": "QbqHs0KW5a3v"
      }
    },
    {
      "cell_type": "code",
      "source": [
        "print(\"OPTIMIZED PARAMETERS:\")\n",
        "print(\"\\tkernel =\",optimal_pooled_params['kernel'])\n",
        "print(\"\\tgamma =\",optimal_pooled_params['gamma'])\n",
        "print(\"\\tC =\",optimal_pooled_params['C'],'\\n')\n",
        "print(\"TEST SET REPORT:\")\n",
        "print(classification_report(pool_labels(np.array(y_test)),pool_labels(y_preds)))"
      ],
      "metadata": {
        "colab": {
          "base_uri": "https://localhost:8080/"
        },
        "id": "5h5CabOV4j3F",
        "outputId": "e2322da6-819e-4921-d0c6-765a5d909075"
      },
      "execution_count": 46,
      "outputs": [
        {
          "output_type": "stream",
          "name": "stdout",
          "text": [
            "OPTIMIZED PARAMETERS:\n",
            "\tkernel = rbf\n",
            "\tgamma = 0.00014640514398050753\n",
            "\tC = 8.104847330840652 \n",
            "\n",
            "TEST SET REPORT:\n",
            "              precision    recall  f1-score   support\n",
            "\n",
            "        Easy       0.72      0.76      0.74       441\n",
            "        Hard       0.89      0.89      0.89       423\n",
            "    Moderate       0.66      0.63      0.64       446\n",
            "      Sunday       1.00      1.00      1.00       221\n",
            "\n",
            "    accuracy                           0.79      1531\n",
            "   macro avg       0.82      0.82      0.82      1531\n",
            "weighted avg       0.79      0.79      0.79      1531\n",
            "\n"
          ]
        }
      ]
    },
    {
      "cell_type": "code",
      "source": [
        "# looks like that in terms of accuracy, it doesn't matter whether we train the model with pooled target labels or do the pooling afterwards"
      ],
      "metadata": {
        "id": "mGmS9ZSp5rt6"
      },
      "execution_count": 47,
      "outputs": []
    },
    {
      "cell_type": "code",
      "source": [
        "# Feature importance\n",
        "perm_importance = permutation_importance(optimized_svm, x_test, y_test)\n",
        "\n",
        "feature_names = list(x_test.columns)\n",
        "features = np.array(feature_names)"
      ],
      "metadata": {
        "id": "_kgRWbXcrt52"
      },
      "execution_count": 48,
      "outputs": []
    },
    {
      "cell_type": "code",
      "source": [
        "sorted_idx = perm_importance.importances_mean.argsort()\n",
        "plt.barh(features[sorted_idx], perm_importance.importances_mean[sorted_idx])\n",
        "plt.xlabel(\"Permutation Importance\")"
      ],
      "metadata": {
        "colab": {
          "base_uri": "https://localhost:8080/",
          "height": 296
        },
        "id": "0ajQwu8nj5nI",
        "outputId": "20c75aa4-17e3-47b8-aaf7-02b832bc311b"
      },
      "execution_count": 49,
      "outputs": [
        {
          "output_type": "execute_result",
          "data": {
            "text/plain": [
              "Text(0.5, 0, 'Permutation Importance')"
            ]
          },
          "metadata": {},
          "execution_count": 49
        },
        {
          "output_type": "display_data",
          "data": {
            "text/plain": [
              "<Figure size 432x288 with 1 Axes>"
            ],
            "image/png": "[encoded data removed]"
          },
          "metadata": {
            "needs_background": "light"
          }
        }
      ]
    },
    {
      "cell_type": "code",
      "source": [
        "sorted_idx = perm_importance.importances_mean.argsort()\n",
        "plt.barh(features[sorted_idx][-10:], perm_importance.importances_mean[sorted_idx[-10:]])\n",
        "plt.xlabel(\"Permutation Importance\")"
      ],
      "metadata": {
        "colab": {
          "base_uri": "https://localhost:8080/",
          "height": 296
        },
        "id": "aaLTaxWxgXlw",
        "outputId": "17828fb0-b396-460a-e61d-0f1b8e272e77"
      },
      "execution_count": 50,
      "outputs": [
        {
          "output_type": "execute_result",
          "data": {
            "text/plain": [
              "Text(0.5, 0, 'Permutation Importance')"
            ]
          },
          "metadata": {},
          "execution_count": 50
        },
        {
          "output_type": "display_data",
          "data": {
            "text/plain": [
              "<Figure size 432x288 with 1 Axes>"
            ],
            "image/png": "[encoded data removed]"
          },
          "metadata": {
            "needs_background": "light"
          }
        }
      ]
    }
  ],
  "metadata": {
    "colab": {
      "provenance": [],
      "include_colab_link": true
    },
    "kernelspec": {
      "display_name": "Python 3",
      "name": "python3"
    },
    "language_info": {
      "name": "python"
    }
  },
  "nbformat": 4,
  "nbformat_minor": 0
}